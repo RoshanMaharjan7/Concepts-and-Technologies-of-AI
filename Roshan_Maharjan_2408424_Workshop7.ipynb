{
  "nbformat": 4,
  "nbformat_minor": 0,
  "metadata": {
    "colab": {
      "provenance": [],
      "mount_file_id": "1u24n7nvQm7TsWoKxbPL41-xAuw6wXEUp",
      "authorship_tag": "ABX9TyOXKsBUxBPOYg89gIxoBWFb",
      "include_colab_link": true
    },
    "kernelspec": {
      "name": "python3",
      "display_name": "Python 3"
    },
    "language_info": {
      "name": "python"
    }
  },
  "cells": [
    {
      "cell_type": "markdown",
      "metadata": {
        "id": "view-in-github",
        "colab_type": "text"
      },
      "source": [
        "<a href=\"https://colab.research.google.com/github/RoshanMaharjan7/Concepts-and-Technologies-of-AI/blob/main/Roshan_Maharjan_2408424_Workshop7.ipynb\" target=\"_parent\"><img src=\"https://colab.research.google.com/assets/colab-badge.svg\" alt=\"Open In Colab\"/></a>"
      ]
    },
    {
      "cell_type": "markdown",
      "source": [
        "Student Name: Roshan Maharjan\\\n",
        "Student ID: 2408424"
      ],
      "metadata": {
        "id": "ouu2Yvod3veh"
      }
    },
    {
      "cell_type": "code",
      "execution_count": 1,
      "metadata": {
        "id": "0XfFd8gf3t-L"
      },
      "outputs": [],
      "source": [
        "import numpy as np\n",
        "import pandas as pd\n",
        "import matplotlib.pyplot as plt"
      ]
    },
    {
      "cell_type": "code",
      "source": [
        "diabetes_df = pd.read_csv(\"/content/drive/MyDrive/Concepts of AI/Week 7/diabetes.csv\");"
      ],
      "metadata": {
        "id": "-EIPz7fU6Ma0"
      },
      "execution_count": 2,
      "outputs": []
    },
    {
      "cell_type": "code",
      "source": [
        "print(\"First few rows of the dataframe:\")\n",
        "print(diabetes_df.head())\n",
        "\n",
        "print(\"\\nThe data types of the dataframe:\")\n",
        "print(diabetes_df.dtypes)\n",
        "\n",
        "print(\"\\nThe summary statistics of the dataframe:\")\n",
        "print(diabetes_df.describe())\n",
        "\n",
        "print(\"\\nThe missing values of the dataframe:\")\n",
        "print(diabetes_df.isnull().sum())"
      ],
      "metadata": {
        "colab": {
          "base_uri": "https://localhost:8080/"
        },
        "id": "akzA_99m6cPy",
        "outputId": "413fd9fa-9715-4ba6-dc9e-97090c7d3ab6"
      },
      "execution_count": 3,
      "outputs": [
        {
          "output_type": "stream",
          "name": "stdout",
          "text": [
            "First few rows of the dataframe:\n",
            "   Pregnancies  Glucose  BloodPressure  SkinThickness  Insulin   BMI  \\\n",
            "0            6      148             72             35        0  33.6   \n",
            "1            1       85             66             29        0  26.6   \n",
            "2            8      183             64              0        0  23.3   \n",
            "3            1       89             66             23       94  28.1   \n",
            "4            0      137             40             35      168  43.1   \n",
            "\n",
            "   DiabetesPedigreeFunction  Age  Outcome  \n",
            "0                     0.627   50        1  \n",
            "1                     0.351   31        0  \n",
            "2                     0.672   32        1  \n",
            "3                     0.167   21        0  \n",
            "4                     2.288   33        1  \n",
            "\n",
            "The data types of the dataframe:\n",
            "Pregnancies                   int64\n",
            "Glucose                       int64\n",
            "BloodPressure                 int64\n",
            "SkinThickness                 int64\n",
            "Insulin                       int64\n",
            "BMI                         float64\n",
            "DiabetesPedigreeFunction    float64\n",
            "Age                           int64\n",
            "Outcome                       int64\n",
            "dtype: object\n",
            "\n",
            "The summary statistics of the dataframe:\n",
            "       Pregnancies     Glucose  BloodPressure  SkinThickness     Insulin  \\\n",
            "count   768.000000  768.000000     768.000000     768.000000  768.000000   \n",
            "mean      3.845052  120.894531      69.105469      20.536458   79.799479   \n",
            "std       3.369578   31.972618      19.355807      15.952218  115.244002   \n",
            "min       0.000000    0.000000       0.000000       0.000000    0.000000   \n",
            "25%       1.000000   99.000000      62.000000       0.000000    0.000000   \n",
            "50%       3.000000  117.000000      72.000000      23.000000   30.500000   \n",
            "75%       6.000000  140.250000      80.000000      32.000000  127.250000   \n",
            "max      17.000000  199.000000     122.000000      99.000000  846.000000   \n",
            "\n",
            "              BMI  DiabetesPedigreeFunction         Age     Outcome  \n",
            "count  768.000000                768.000000  768.000000  768.000000  \n",
            "mean    31.992578                  0.471876   33.240885    0.348958  \n",
            "std      7.884160                  0.331329   11.760232    0.476951  \n",
            "min      0.000000                  0.078000   21.000000    0.000000  \n",
            "25%     27.300000                  0.243750   24.000000    0.000000  \n",
            "50%     32.000000                  0.372500   29.000000    0.000000  \n",
            "75%     36.600000                  0.626250   41.000000    1.000000  \n",
            "max     67.100000                  2.420000   81.000000    1.000000  \n",
            "\n",
            "The missing values of the dataframe:\n",
            "Pregnancies                 0\n",
            "Glucose                     0\n",
            "BloodPressure               0\n",
            "SkinThickness               0\n",
            "Insulin                     0\n",
            "BMI                         0\n",
            "DiabetesPedigreeFunction    0\n",
            "Age                         0\n",
            "Outcome                     0\n",
            "dtype: int64\n"
          ]
        }
      ]
    },
    {
      "cell_type": "code",
      "source": [
        "X = diabetes_df.drop(columns=[\"BloodPressure\"]);\n",
        "Y = diabetes_df[\"BloodPressure\"];\n",
        "\n",
        "print(\"Shape of Feature Matrix\", X.shape)\n",
        "print(\"Shape of Target Matrix\", Y.shape)"
      ],
      "metadata": {
        "colab": {
          "base_uri": "https://localhost:8080/"
        },
        "id": "RGcMsVXJ7Ckf",
        "outputId": "4b03a9dd-ded6-4293-f36f-0e1b364be493"
      },
      "execution_count": 4,
      "outputs": [
        {
          "output_type": "stream",
          "name": "stdout",
          "text": [
            "Shape of Feature Matrix (768, 8)\n",
            "Shape of Target Matrix (768,)\n"
          ]
        }
      ]
    },
    {
      "cell_type": "code",
      "source": [
        "# X characters\n",
        "pregnancies = diabetes_df[\"Pregnancies\"].to_numpy()\n",
        "glucose = diabetes_df[\"Glucose\"].to_numpy()\n",
        "skinThickness = diabetes_df[\"SkinThickness\"].to_numpy()\n",
        "insulin = diabetes_df[\"Insulin\"].to_numpy()\n",
        "skinThickness = diabetes_df[\"SkinThickness\"].to_numpy()\n",
        "BMI = diabetes_df[\"BMI\"].to_numpy()\n",
        "diabetesPedigreeFunction = diabetes_df[\"DiabetesPedigreeFunction\"].to_numpy()\n",
        "age = diabetes_df[\"Age\"].to_numpy()\n",
        "outcome = diabetes_df[\"Outcome\"].to_numpy()\n",
        "\n",
        "\n",
        "# Y character\n",
        "bloodPressure = diabetes_df[\"BloodPressure\"].to_numpy()\n"
      ],
      "metadata": {
        "id": "RpJhv-Kb-EVP"
      },
      "execution_count": 5,
      "outputs": []
    },
    {
      "cell_type": "code",
      "source": [
        "from sklearn.linear_model import LinearRegression\n",
        "from sklearn.metrics import mean_squared_error\n",
        "\n",
        "X = np.array([pregnancies, glucose,skinThickness,insulin,skinThickness,BMI,diabetesPedigreeFunction,age,outcome]).T\n",
        "Y = np.array(bloodPressure)\n",
        "\n",
        "reg = LinearRegression()\n",
        "\n",
        "reg = reg.fit(X, Y)\n",
        "\n",
        "Y_pred = reg.predict(X)\n",
        "\n",
        "rmse = np.sqrt(mean_squared_error(Y, Y_pred))\n",
        "r2 = reg.score(X, Y)\n",
        "\n",
        "print(rmse)\n",
        "print(r2)\n"
      ],
      "metadata": {
        "colab": {
          "base_uri": "https://localhost:8080/"
        },
        "id": "vX194Xyg77oJ",
        "outputId": "a318da94-fe7e-4e05-b1a0-7c42f45e52a9"
      },
      "execution_count": 6,
      "outputs": [
        {
          "output_type": "stream",
          "name": "stdout",
          "text": [
            "17.696850842784034\n",
            "0.16298110238400065\n"
          ]
        }
      ]
    },
    {
      "cell_type": "markdown",
      "source": [
        "##Classification Task:"
      ],
      "metadata": {
        "id": "UR5gnysWCBzT"
      }
    },
    {
      "cell_type": "code",
      "source": [
        "from sklearn.model_selection import train_test_split\n",
        "from sklearn.linear_model import LinearRegression, LogisticRegression\n",
        "from sklearn.neighbors import KNeighborsClassifier\n",
        "from sklearn.metrics import mean_squared_error, r2_score, accuracy_score, confusion_matrix, classification_report\n"
      ],
      "metadata": {
        "id": "ySp8e1BrCFln"
      },
      "execution_count": 7,
      "outputs": []
    },
    {
      "cell_type": "code",
      "source": [
        "X_clf = diabetes_df.drop(columns=['Outcome'])\n",
        "y_clf = diabetes_df['Outcome']\n",
        "X_train_clf, X_test_clf, y_train_clf, y_test_clf = train_test_split(X_clf, y_clf, test_size=0.2, random_state=42)\n",
        "clf_model_logreg = LogisticRegression(max_iter=1000)\n",
        "clf_model_logreg.fit(X_train_clf, y_train_clf)\n",
        "\n",
        "y_pred_clf_logreg = clf_model_logreg.predict(X_test_clf)\n",
        "\n",
        "# Evaluate\n",
        "print(\"Logistic Regression Evaluation:\")\n",
        "print(f\"Accuracy: {accuracy_score(y_test_clf, y_pred_clf_logreg)}\")\n",
        "print(f\"Confusion Matrix:\\n{confusion_matrix(y_test_clf, y_pred_clf_logreg)}\")\n",
        "print(f\"Classification Report:\\n{classification_report(y_test_clf, y_pred_clf_logreg)}\")"
      ],
      "metadata": {
        "colab": {
          "base_uri": "https://localhost:8080/"
        },
        "id": "-0x4oB57C4_7",
        "outputId": "ddc59b04-3640-467c-df06-994921f0baf3"
      },
      "execution_count": 8,
      "outputs": [
        {
          "output_type": "stream",
          "name": "stdout",
          "text": [
            "Logistic Regression Evaluation:\n",
            "Accuracy: 0.7467532467532467\n",
            "Confusion Matrix:\n",
            "[[78 21]\n",
            " [18 37]]\n",
            "Classification Report:\n",
            "              precision    recall  f1-score   support\n",
            "\n",
            "           0       0.81      0.79      0.80        99\n",
            "           1       0.64      0.67      0.65        55\n",
            "\n",
            "    accuracy                           0.75       154\n",
            "   macro avg       0.73      0.73      0.73       154\n",
            "weighted avg       0.75      0.75      0.75       154\n",
            "\n"
          ]
        }
      ]
    },
    {
      "cell_type": "code",
      "source": [
        "clf_model_knn = KNeighborsClassifier(n_neighbors=5)\n",
        "clf_model_knn.fit(X_train_clf, y_train_clf)\n",
        "\n",
        "# Predict on test set\n",
        "y_pred_clf_knn = clf_model_knn.predict(X_test_clf)\n",
        "\n",
        "# Evaluate\n",
        "print(\"KNN Evaluation:\")\n",
        "print(f\"Accuracy: {accuracy_score(y_test_clf, y_pred_clf_knn)}\")\n",
        "print(f\"Confusion Matrix:\\n{confusion_matrix(y_test_clf, y_pred_clf_knn)}\")\n",
        "print(f\"Classification Report:\\n{classification_report(y_test_clf, y_pred_clf_knn)}\")"
      ],
      "metadata": {
        "colab": {
          "base_uri": "https://localhost:8080/"
        },
        "id": "LDIfLyUxDAMI",
        "outputId": "c724fd68-28cb-46cf-cf2f-644f59c9b865"
      },
      "execution_count": 9,
      "outputs": [
        {
          "output_type": "stream",
          "name": "stdout",
          "text": [
            "KNN Evaluation:\n",
            "Accuracy: 0.6623376623376623\n",
            "Confusion Matrix:\n",
            "[[70 29]\n",
            " [23 32]]\n",
            "Classification Report:\n",
            "              precision    recall  f1-score   support\n",
            "\n",
            "           0       0.75      0.71      0.73        99\n",
            "           1       0.52      0.58      0.55        55\n",
            "\n",
            "    accuracy                           0.66       154\n",
            "   macro avg       0.64      0.64      0.64       154\n",
            "weighted avg       0.67      0.66      0.67       154\n",
            "\n"
          ]
        }
      ]
    }
  ]
}