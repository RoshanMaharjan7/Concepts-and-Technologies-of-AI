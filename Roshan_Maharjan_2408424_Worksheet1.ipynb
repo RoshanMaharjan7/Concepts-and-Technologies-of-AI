{
  "nbformat": 4,
  "nbformat_minor": 0,
  "metadata": {
    "colab": {
      "provenance": [],
      "authorship_tag": "ABX9TyNkukOqf9PNpLHJHuRa830O",
      "include_colab_link": true
    },
    "kernelspec": {
      "name": "python3",
      "display_name": "Python 3"
    },
    "language_info": {
      "name": "python"
    }
  },
  "cells": [
    {
      "cell_type": "markdown",
      "metadata": {
        "id": "view-in-github",
        "colab_type": "text"
      },
      "source": [
        "<a href=\"https://colab.research.google.com/github/RoshanMaharjan7/Concepts-and-Technologies-of-AI/blob/main/Roshan_Maharjan_2408424_Worksheet1.ipynb\" target=\"_parent\"><img src=\"https://colab.research.google.com/assets/colab-badge.svg\" alt=\"Open In Colab\"/></a>"
      ]
    },
    {
      "cell_type": "markdown",
      "source": [
        "Name: Roshan Maharjan\\\n",
        "Student ID: 2408424"
      ],
      "metadata": {
        "id": "5bAc6LTGZs2X"
      }
    },
    {
      "cell_type": "markdown",
      "source": [
        "4.1 Warming Up Exercise: Basic Vector and Matrix Operation with Numpy.\\"
      ],
      "metadata": {
        "id": "E7xUpwDe5I-D"
      }
    },
    {
      "cell_type": "markdown",
      "source": [
        "Problem - 1: Array Creation:"
      ],
      "metadata": {
        "id": "XPiCqMOZ5LIT"
      }
    },
    {
      "cell_type": "code",
      "source": [
        "import numpy as np\n",
        "\n",
        "arr_empty = np.empty((2,2))\n",
        "print(\"\\n 1. Initialize an empty array with size 2X2.\")\n",
        "print(arr_empty)\n",
        "\n",
        "\n",
        "print(\"\\n 2. Initialize an all one array with size 4X2.\")\n",
        "print(np.ones((4,2)))\n",
        "\n",
        "print(\"\\n 3. Return a new array of given shape and type, filled with fill value.{Hint: np.full}\")\n",
        "print(np.full((2,2),2))\n",
        "\n",
        "print(\"\\n 4. Return a new array of zeros with same shape and type as a given array.{Hint: np.zeros like}\")\n",
        "print(np.zeros_like(arr_empty))\n",
        "\n",
        "print(\"\\n 5. Return a new array of ones with same shape and type as a given array.{Hint: np.ones like}\")\n",
        "print(np.ones_like(arr_empty))\n",
        "\n",
        "print(\"\\n 6. For an existing list new_list = [1,2,3,4] convert to an numpy array.{Hint: np.array()}\")\n",
        "new_list = [1,2,3,4]\n",
        "numpy_array = np.array(new_list)\n",
        "print(\"numpy array: \", numpy_array)"
      ],
      "metadata": {
        "colab": {
          "base_uri": "https://localhost:8080/"
        },
        "id": "AZqewAQm5M7O",
        "outputId": "a4bb0c7c-06e2-4a8c-f084-c2aab207a214"
      },
      "execution_count": 1,
      "outputs": [
        {
          "output_type": "stream",
          "name": "stdout",
          "text": [
            "\n",
            " 1. Initialize an empty array with size 2X2.\n",
            "[[ 4.73491001e-310  0.00000000e+000]\n",
            " [-3.69602954e+242  6.66507168e-310]]\n",
            "\n",
            " 2. Initialize an all one array with size 4X2.\n",
            "[[1. 1.]\n",
            " [1. 1.]\n",
            " [1. 1.]\n",
            " [1. 1.]]\n",
            "\n",
            " 3. Return a new array of given shape and type, filled with fill value.{Hint: np.full}\n",
            "[[2 2]\n",
            " [2 2]]\n",
            "\n",
            " 4. Return a new array of zeros with same shape and type as a given array.{Hint: np.zeros like}\n",
            "[[0. 0.]\n",
            " [0. 0.]]\n",
            "\n",
            " 5. Return a new array of ones with same shape and type as a given array.{Hint: np.ones like}\n",
            "[[1. 1.]\n",
            " [1. 1.]]\n",
            "\n",
            " 6. For an existing list new_list = [1,2,3,4] convert to an numpy array.{Hint: np.array()}\n",
            "numpy array:  [1 2 3 4]\n"
          ]
        }
      ]
    },
    {
      "cell_type": "markdown",
      "source": [
        "Problem - 2: Array Manipulation: Numerical Ranges and Array indexing:"
      ],
      "metadata": {
        "id": "wUaLsuKzD2cO"
      }
    },
    {
      "cell_type": "code",
      "source": [
        "import numpy as np\n",
        "\n",
        "print(\"\\n1. Create an array with values ranging from 10 to 49. {Hint:np.arrange()}.\")\n",
        "new_arr = np.arange(10,50)\n",
        "print(new_arr)\n",
        "\n",
        "print(\"\\n2. Create a 3X3 matrix with values ranging from 0 to 8. {Hint:look for np.reshape()}\")\n",
        "array2 = np.arange(0,9)\n",
        "print(array2.reshape(3,3))\n",
        "\n",
        "print(\"\\n3. Create a 3X3 identity matrix.{Hint:np.eye()}\")\n",
        "array3 = np.eye(3)\n",
        "print(array3)\n",
        "\n",
        "print(\"\\n4. Create a random array of size 30 and find the mean of the array. {Hint:check for np.random.random() and array.mean() function}\")\n",
        "array4 = np.random.random(30)\n",
        "print(\"Mean = \",array4.mean())\n",
        "\n",
        "print(\"\\n5. Create a 10X10 array with random values and find the minimum and maximum values.\")\n",
        "array5 = np.random.random((10,10))\n",
        "print(\"Min value = \", array5.min())\n",
        "print(\"Max value = \", array5.min())\n",
        "\n",
        "print(\"\\n6. Create a zero array of size 10 and replace 5th element with 1.\")\n",
        "array6 = np.zeros(10)\n",
        "print(\"Before replacement\")\n",
        "print(array6)\n",
        "array6[4] = 1\n",
        "print(\"After replacement\")\n",
        "print(array6)\n",
        "\n",
        "print(\"\\n7. Reverse an array arr = [1,2,0,0,4,0].\")\n",
        "array7 = np.array([1,2,0,0,4,0])\n",
        "print(array7[::-1])\n",
        "\n",
        "print(\"\\n8. Create a 2d array with 1 on border and 0 inside.\")\n",
        "array8 = np.ones((4,4))\n",
        "array8[1:-1, 1:-1] = 0\n",
        "print(array8)\n",
        "\n",
        "print(\"\\n9. Create a 8X8 matrix and fill it with a checkerboard pattern.\")\n",
        "array9 = np.zeros((8, 8))\n",
        "array9[::2, ::2] = 1\n",
        "array9[1::2, 1::2] = 1\n",
        "print(array9)"
      ],
      "metadata": {
        "colab": {
          "base_uri": "https://localhost:8080/"
        },
        "id": "bc-BHf8wEbCo",
        "outputId": "69f6ebd2-8f76-4ebd-8c91-0b4937d0fae7"
      },
      "execution_count": 2,
      "outputs": [
        {
          "output_type": "stream",
          "name": "stdout",
          "text": [
            "\n",
            "1. Create an array with values ranging from 10 to 49. {Hint:np.arrange()}.\n",
            "[10 11 12 13 14 15 16 17 18 19 20 21 22 23 24 25 26 27 28 29 30 31 32 33\n",
            " 34 35 36 37 38 39 40 41 42 43 44 45 46 47 48 49]\n",
            "\n",
            "2. Create a 3X3 matrix with values ranging from 0 to 8. {Hint:look for np.reshape()}\n",
            "[[0 1 2]\n",
            " [3 4 5]\n",
            " [6 7 8]]\n",
            "\n",
            "3. Create a 3X3 identity matrix.{Hint:np.eye()}\n",
            "[[1. 0. 0.]\n",
            " [0. 1. 0.]\n",
            " [0. 0. 1.]]\n",
            "\n",
            "4. Create a random array of size 30 and find the mean of the array. {Hint:check for np.random.random() and array.mean() function}\n",
            "Mean =  0.4359850465986888\n",
            "\n",
            "5. Create a 10X10 array with random values and find the minimum and maximum values.\n",
            "Min value =  0.011353145437279832\n",
            "Max value =  0.011353145437279832\n",
            "\n",
            "6. Create a zero array of size 10 and replace 5th element with 1.\n",
            "Before replacement\n",
            "[0. 0. 0. 0. 0. 0. 0. 0. 0. 0.]\n",
            "After replacement\n",
            "[0. 0. 0. 0. 1. 0. 0. 0. 0. 0.]\n",
            "\n",
            "7. Reverse an array arr = [1,2,0,0,4,0].\n",
            "[0 4 0 0 2 1]\n",
            "\n",
            "8. Create a 2d array with 1 on border and 0 inside.\n",
            "[[1. 1. 1. 1.]\n",
            " [1. 0. 0. 1.]\n",
            " [1. 0. 0. 1.]\n",
            " [1. 1. 1. 1.]]\n",
            "\n",
            "9. Create a 8X8 matrix and fill it with a checkerboard pattern.\n",
            "[[1. 0. 1. 0. 1. 0. 1. 0.]\n",
            " [0. 1. 0. 1. 0. 1. 0. 1.]\n",
            " [1. 0. 1. 0. 1. 0. 1. 0.]\n",
            " [0. 1. 0. 1. 0. 1. 0. 1.]\n",
            " [1. 0. 1. 0. 1. 0. 1. 0.]\n",
            " [0. 1. 0. 1. 0. 1. 0. 1.]\n",
            " [1. 0. 1. 0. 1. 0. 1. 0.]\n",
            " [0. 1. 0. 1. 0. 1. 0. 1.]]\n"
          ]
        }
      ]
    },
    {
      "cell_type": "markdown",
      "source": [
        "Problem - 3: Array Operations:"
      ],
      "metadata": {
        "id": "3VVJSOeII2j6"
      }
    },
    {
      "cell_type": "code",
      "source": [
        "import numpy as np\n",
        "\n",
        "x = np.array([[1,2],[3,5]])\n",
        "y = np.array([[5,6],[7,8]])\n",
        "v = np.array([9,10])\n",
        "w = np.array([11,12])\n",
        "\n",
        "print(\"\\n1. Add the two array.\")\n",
        "add_array = np.add(x,y)\n",
        "print(\"Added array = \\n\",add_array)\n",
        "\n",
        "print(\"\\n2. Subtract the two array.\")\n",
        "sub_array = np.subtract(v,w)\n",
        "print(\"Subtracted array = \\n\",sub_array)\n",
        "\n",
        "print(\"\\n3. 3. Multiply the array with any integers of your choice.\")\n",
        "mult_array = np.multiply(2,x)\n",
        "print(\"Multiplied array = \\n\", mult_array)\n",
        "\n",
        "print(\"\\n4. Find the square of each element of the array.\")\n",
        "square_array = np.power(y,2)\n",
        "print(\"Squared array = \\n\",square_array)\n",
        "\n",
        "print(\"\\n 5. Find the dot product between: v(and)w ; x(and)v ; x(and)y.\")\n",
        "dot_v_w = np.dot(v,w)\n",
        "dot_x_v = np.dot(x,v)\n",
        "dot_x_y = np.dot(x,y)\n",
        "\n",
        "print(\"Dot product between v and w = \\n\",dot_v_w)\n",
        "print(\"Dot product between x and v = \\n\",dot_x_v)\n",
        "print(\"Dot product between x and y = \\n\",dot_x_y)\n",
        "\n",
        "\n",
        "print(\"\\n6. Concatenate x(and)y along row and Concatenate v(and)w along column. {Hint:try np.concatenate() or np.vstack() functions.\")\n",
        "concat_x_y = np.concatenate((x,y), axis=1)\n",
        "concat_v_w = np.concatenate((v,w), axis=0)\n",
        "print(\"Concatenation of x and y along row = \\n\",concat_x_y)\n",
        "print(\"Concatenation of v and w along column = \\n\",concat_v_w)\n",
        "\n",
        "print(\"\\n7. Concatenate x(and)v; if you get an error, observe and explain why did you get the error?\")\n",
        "print(\"Ans: We cannot concatenate x and v because x is a 2D array whereas v is 1D array, So, concatenation between array of different dimension is not possible\")\n",
        "concat_x_v = np.concatenate((x,v))\n",
        "print(\"Concatenation of x and v = \\n\",concat_x_v)\n"
      ],
      "metadata": {
        "colab": {
          "base_uri": "https://localhost:8080/",
          "height": 894
        },
        "id": "88E3do1BI5sz",
        "outputId": "c8da7fdb-177c-4fa1-927c-a1b13938a151"
      },
      "execution_count": 3,
      "outputs": [
        {
          "output_type": "stream",
          "name": "stdout",
          "text": [
            "\n",
            "1. Add the two array.\n",
            "Added array = \n",
            " [[ 6  8]\n",
            " [10 13]]\n",
            "\n",
            "2. Subtract the two array.\n",
            "Subtracted array = \n",
            " [-2 -2]\n",
            "\n",
            "3. 3. Multiply the array with any integers of your choice.\n",
            "Multiplied array = \n",
            " [[ 2  4]\n",
            " [ 6 10]]\n",
            "\n",
            "4. Find the square of each element of the array.\n",
            "Squared array = \n",
            " [[25 36]\n",
            " [49 64]]\n",
            "\n",
            " 5. Find the dot product between: v(and)w ; x(and)v ; x(and)y.\n",
            "Dot product between v and w = \n",
            " 219\n",
            "Dot product between x and v = \n",
            " [29 77]\n",
            "Dot product between x and y = \n",
            " [[19 22]\n",
            " [50 58]]\n",
            "\n",
            "6. Concatenate x(and)y along row and Concatenate v(and)w along column. {Hint:try np.concatenate() or np.vstack() functions.\n",
            "Concatenation of x and y along row = \n",
            " [[1 2 5 6]\n",
            " [3 5 7 8]]\n",
            "Concatenation of v and w along column = \n",
            " [ 9 10 11 12]\n",
            "\n",
            "7. Concatenate x(and)v; if you get an error, observe and explain why did you get the error?\n",
            "Ans: We cannot concatenate x and v because x is a 2D array whereas v is 1D array, So, concatenation between array of different dimension is not possible\n"
          ]
        },
        {
          "output_type": "error",
          "ename": "ValueError",
          "evalue": "all the input arrays must have same number of dimensions, but the array at index 0 has 2 dimension(s) and the array at index 1 has 1 dimension(s)",
          "traceback": [
            "\u001b[0;31m---------------------------------------------------------------------------\u001b[0m",
            "\u001b[0;31mValueError\u001b[0m                                Traceback (most recent call last)",
            "\u001b[0;32m<ipython-input-3-a7cae31f5376>\u001b[0m in \u001b[0;36m<cell line: 42>\u001b[0;34m()\u001b[0m\n\u001b[1;32m     40\u001b[0m \u001b[0mprint\u001b[0m\u001b[0;34m(\u001b[0m\u001b[0;34m\"\\n7. Concatenate x(and)v; if you get an error, observe and explain why did you get the error?\"\u001b[0m\u001b[0;34m)\u001b[0m\u001b[0;34m\u001b[0m\u001b[0;34m\u001b[0m\u001b[0m\n\u001b[1;32m     41\u001b[0m \u001b[0mprint\u001b[0m\u001b[0;34m(\u001b[0m\u001b[0;34m\"Ans: We cannot concatenate x and v because x is a 2D array whereas v is 1D array, So, concatenation between array of different dimension is not possible\"\u001b[0m\u001b[0;34m)\u001b[0m\u001b[0;34m\u001b[0m\u001b[0;34m\u001b[0m\u001b[0m\n\u001b[0;32m---> 42\u001b[0;31m \u001b[0mconcat_x_v\u001b[0m \u001b[0;34m=\u001b[0m \u001b[0mnp\u001b[0m\u001b[0;34m.\u001b[0m\u001b[0mconcatenate\u001b[0m\u001b[0;34m(\u001b[0m\u001b[0;34m(\u001b[0m\u001b[0mx\u001b[0m\u001b[0;34m,\u001b[0m\u001b[0mv\u001b[0m\u001b[0;34m)\u001b[0m\u001b[0;34m)\u001b[0m\u001b[0;34m\u001b[0m\u001b[0;34m\u001b[0m\u001b[0m\n\u001b[0m\u001b[1;32m     43\u001b[0m \u001b[0mprint\u001b[0m\u001b[0;34m(\u001b[0m\u001b[0;34m\"Concatenation of x and v = \\n\"\u001b[0m\u001b[0;34m,\u001b[0m\u001b[0mconcat_x_v\u001b[0m\u001b[0;34m)\u001b[0m\u001b[0;34m\u001b[0m\u001b[0;34m\u001b[0m\u001b[0m\n",
            "\u001b[0;31mValueError\u001b[0m: all the input arrays must have same number of dimensions, but the array at index 0 has 2 dimension(s) and the array at index 1 has 1 dimension(s)"
          ]
        }
      ]
    },
    {
      "cell_type": "markdown",
      "source": [
        "Problem - 4: Matrix Operations:"
      ],
      "metadata": {
        "id": "waThWWoINw-7"
      }
    },
    {
      "cell_type": "markdown",
      "source": [
        "For the following arrays:\n",
        "A = np.array([[3,4],[7,8]]) and B = np.array([[5,3],[2,1]]);\n",
        "Prove following with Numpy:\n",
        "1. Prove A.A−1 = I.\n",
        "2. Prove AB ̸= BA.\n",
        "3. Prove (AB)\n",
        "\n",
        "T = BTAT"
      ],
      "metadata": {
        "id": "sjX46EStN3Yn"
      }
    },
    {
      "cell_type": "code",
      "source": [
        "import numpy as np\n",
        "\n",
        "print(\"\\n 1.Prove A.A-1 = I\")\n",
        "A = np.array([[3,4],[7,8]])\n",
        "B = np.array([[5,3],[2,1]])\n",
        "\n",
        "A_inverse = np.linalg.inv(A)\n",
        "A_mul_inverse = np.dot(A, A_inverse);\n",
        "print(A_mul_inverse)\n",
        "\n",
        "print(\"\\n 2. Prove AB ̸= BA.\")\n",
        "AB = np.dot(A,B)\n",
        "BA = np.dot(B,A)\n",
        "print(\"AB = \\n\",AB)\n",
        "print(\"BA = \\n\",BA)\n",
        "if(np.array_equal(AB,BA)):\n",
        "  print(\"AB is equal to BA\")\n",
        "else:\n",
        "  print(\"Therefore AB not equal to BA\")\n",
        "\n",
        "print(\"\\n 3. Prove (AB)T = BTAT\")\n",
        "AB_Trans = np.transpose(AB)\n",
        "B_Trans = np.transpose(B)\n",
        "A_Trans = np.transpose(A)\n",
        "BTAT= np.dot(B_Trans, A_Trans)\n",
        "print(\"AB Transpose = \\n\",AB_Trans)\n",
        "print(\"BTAT = \\n\",BTAT)\n",
        "if(np.array_equal(AB_Trans, BTAT)):\n",
        "    print(\"Therefore AB transpose is equal to B transpose A transpose\")\n",
        "else:\n",
        "    print(\"They are not equal\")\n"
      ],
      "metadata": {
        "colab": {
          "base_uri": "https://localhost:8080/"
        },
        "id": "CizuAciDNyFQ",
        "outputId": "d7c4e986-0b4e-4ad9-c209-67da0bef3983"
      },
      "execution_count": 5,
      "outputs": [
        {
          "output_type": "stream",
          "name": "stdout",
          "text": [
            "\n",
            " 1.Prove A.A-1 = I\n",
            "[[1.00000000e+00 0.00000000e+00]\n",
            " [1.77635684e-15 1.00000000e+00]]\n",
            "\n",
            " 2. Prove AB ̸= BA.\n",
            "AB = \n",
            " [[23 13]\n",
            " [51 29]]\n",
            "BA = \n",
            " [[36 44]\n",
            " [13 16]]\n",
            "Therefore AB not equal to BA\n",
            "\n",
            " 3. Prove (AB)T = BTAT\n",
            "AB Transpose = \n",
            " [[23 51]\n",
            " [13 29]]\n",
            "BTAT = \n",
            " [[23 51]\n",
            " [13 29]]\n",
            "Therefore AB transpose is equal to B transpose A transpose\n"
          ]
        }
      ]
    },
    {
      "cell_type": "markdown",
      "source": [
        "Solve the following system of Linear equation using Inverse Methods.\n",
        "\n",
        "2x − 3y + z = −1\\\n",
        "x − y + 2z = −3\\\n",
        "3x + y − z = 9\\\n",
        "\n",
        "{Hint: First use Numpy array to represent the equation in Matrix form. Then Solve for: AX = B}"
      ],
      "metadata": {
        "id": "qfGEKcmUQlQK"
      }
    },
    {
      "cell_type": "markdown",
      "source": [
        "Now: solve the above equation using np.linalg.inv function.{Explore more about ”linalg” function\n",
        "of Numpy}"
      ],
      "metadata": {
        "id": "ligRw480Rsjy"
      }
    },
    {
      "cell_type": "code",
      "source": [
        "import numpy as np\n",
        "\n",
        "A = np.array([[2,-3,1],[1,-1,2],[3,1,-1]])\n",
        "B = np.array([[-1],[-2],[9]])\n",
        "\n",
        "print(\"A = \\n\",A)\n",
        "print(\"B = \\n\",B)\n",
        "\n",
        "A_inverse = np.linalg.inv(A)\n",
        "X = np.dot(A_inverse, B)\n",
        "print(\"The value of X = \\n\",X)"
      ],
      "metadata": {
        "colab": {
          "base_uri": "https://localhost:8080/"
        },
        "id": "-YyPHxAqQqJo",
        "outputId": "3b34e862-8581-40f8-9e01-b7b5cc6cdd16"
      },
      "execution_count": 6,
      "outputs": [
        {
          "output_type": "stream",
          "name": "stdout",
          "text": [
            "A = \n",
            " [[ 2 -3  1]\n",
            " [ 1 -1  2]\n",
            " [ 3  1 -1]]\n",
            "B = \n",
            " [[-1]\n",
            " [-2]\n",
            " [ 9]]\n",
            "The value of X = \n",
            " [[ 2.10526316]\n",
            " [ 1.26315789]\n",
            " [-1.42105263]]\n"
          ]
        }
      ]
    }
  ]
}