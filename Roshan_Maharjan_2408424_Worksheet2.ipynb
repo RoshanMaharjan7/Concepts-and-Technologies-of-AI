{
  "nbformat": 4,
  "nbformat_minor": 0,
  "metadata": {
    "colab": {
      "provenance": [],
      "mount_file_id": "1yS5pLKwc251urVnvPvDxqmgRUq_GBcCI",
      "authorship_tag": "ABX9TyNpnFXNFPNBgLtGE4U8PK+3",
      "include_colab_link": true
    },
    "kernelspec": {
      "name": "python3",
      "display_name": "Python 3"
    },
    "language_info": {
      "name": "python"
    }
  },
  "cells": [
    {
      "cell_type": "markdown",
      "metadata": {
        "id": "view-in-github",
        "colab_type": "text"
      },
      "source": [
        "<a href=\"https://colab.research.google.com/github/RoshanMaharjan7/Concepts-and-Technologies-of-AI/blob/main/Roshan_Maharjan_2408424_Worksheet2.ipynb\" target=\"_parent\"><img src=\"https://colab.research.google.com/assets/colab-badge.svg\" alt=\"Open In Colab\"/></a>"
      ]
    },
    {
      "cell_type": "markdown",
      "source": [
        "Name: Roshan Maharjan\\\n",
        "Student ID = 2408424"
      ],
      "metadata": {
        "id": "QD0l7YrHvOAW"
      }
    },
    {
      "cell_type": "markdown",
      "source": [
        "To - Do - Task"
      ],
      "metadata": {
        "id": "OZnh-dFiHdih"
      }
    },
    {
      "cell_type": "markdown",
      "source": [
        "3.1 Warming Up Exercises - Basic Inspection and Exploration:"
      ],
      "metadata": {
        "id": "VXBAHT_vHpu4"
      }
    },
    {
      "cell_type": "markdown",
      "source": [
        "Problem 1 - Data Read, Write and Inspect:\n",
        "Complete all following Task:\n",
        "• Dataset for the Task: \"bank.csv\"\n",
        "1. Load the provided dataset and import in pandas DataFrame."
      ],
      "metadata": {
        "id": "6uh86clWHr-q"
      }
    },
    {
      "cell_type": "code",
      "source": [
        "import pandas as pd\n",
        "\n",
        "bank_df = pd.read_csv('/content/drive/MyDrive/Concepts of AI/Week2/Datasets/bank.csv')\n",
        "bank_df.head()"
      ],
      "metadata": {
        "colab": {
          "base_uri": "https://localhost:8080/",
          "height": 226
        },
        "id": "YhhaMAKhH2Ed",
        "outputId": "1b2a5433-e6e9-4fd0-d19e-de4c41a26ecd"
      },
      "execution_count": 2,
      "outputs": [
        {
          "output_type": "execute_result",
          "data": {
            "text/plain": [
              "   age           job  marital  education default  balance housing loan  \\\n",
              "0   58    management  married   tertiary      no     2143     yes   no   \n",
              "1   44    technician   single  secondary      no       29     yes   no   \n",
              "2   33  entrepreneur  married  secondary      no        2     yes  yes   \n",
              "3   47   blue-collar  married    unknown      no     1506     yes   no   \n",
              "4   33       unknown   single    unknown      no        1      no   no   \n",
              "\n",
              "   contact  day month  duration  campaign  pdays  previous poutcome   y  \n",
              "0  unknown    5   may       261         1     -1         0  unknown  no  \n",
              "1  unknown    5   may       151         1     -1         0  unknown  no  \n",
              "2  unknown    5   may        76         1     -1         0  unknown  no  \n",
              "3  unknown    5   may        92         1     -1         0  unknown  no  \n",
              "4  unknown    5   may       198         1     -1         0  unknown  no  "
            ],
            "text/html": [
              "\n",
              "  <div id=\"df-210e867b-1cf3-46b2-8373-71ee0e9a29c9\" class=\"colab-df-container\">\n",
              "    <div>\n",
              "<style scoped>\n",
              "    .dataframe tbody tr th:only-of-type {\n",
              "        vertical-align: middle;\n",
              "    }\n",
              "\n",
              "    .dataframe tbody tr th {\n",
              "        vertical-align: top;\n",
              "    }\n",
              "\n",
              "    .dataframe thead th {\n",
              "        text-align: right;\n",
              "    }\n",
              "</style>\n",
              "<table border=\"1\" class=\"dataframe\">\n",
              "  <thead>\n",
              "    <tr style=\"text-align: right;\">\n",
              "      <th></th>\n",
              "      <th>age</th>\n",
              "      <th>job</th>\n",
              "      <th>marital</th>\n",
              "      <th>education</th>\n",
              "      <th>default</th>\n",
              "      <th>balance</th>\n",
              "      <th>housing</th>\n",
              "      <th>loan</th>\n",
              "      <th>contact</th>\n",
              "      <th>day</th>\n",
              "      <th>month</th>\n",
              "      <th>duration</th>\n",
              "      <th>campaign</th>\n",
              "      <th>pdays</th>\n",
              "      <th>previous</th>\n",
              "      <th>poutcome</th>\n",
              "      <th>y</th>\n",
              "    </tr>\n",
              "  </thead>\n",
              "  <tbody>\n",
              "    <tr>\n",
              "      <th>0</th>\n",
              "      <td>58</td>\n",
              "      <td>management</td>\n",
              "      <td>married</td>\n",
              "      <td>tertiary</td>\n",
              "      <td>no</td>\n",
              "      <td>2143</td>\n",
              "      <td>yes</td>\n",
              "      <td>no</td>\n",
              "      <td>unknown</td>\n",
              "      <td>5</td>\n",
              "      <td>may</td>\n",
              "      <td>261</td>\n",
              "      <td>1</td>\n",
              "      <td>-1</td>\n",
              "      <td>0</td>\n",
              "      <td>unknown</td>\n",
              "      <td>no</td>\n",
              "    </tr>\n",
              "    <tr>\n",
              "      <th>1</th>\n",
              "      <td>44</td>\n",
              "      <td>technician</td>\n",
              "      <td>single</td>\n",
              "      <td>secondary</td>\n",
              "      <td>no</td>\n",
              "      <td>29</td>\n",
              "      <td>yes</td>\n",
              "      <td>no</td>\n",
              "      <td>unknown</td>\n",
              "      <td>5</td>\n",
              "      <td>may</td>\n",
              "      <td>151</td>\n",
              "      <td>1</td>\n",
              "      <td>-1</td>\n",
              "      <td>0</td>\n",
              "      <td>unknown</td>\n",
              "      <td>no</td>\n",
              "    </tr>\n",
              "    <tr>\n",
              "      <th>2</th>\n",
              "      <td>33</td>\n",
              "      <td>entrepreneur</td>\n",
              "      <td>married</td>\n",
              "      <td>secondary</td>\n",
              "      <td>no</td>\n",
              "      <td>2</td>\n",
              "      <td>yes</td>\n",
              "      <td>yes</td>\n",
              "      <td>unknown</td>\n",
              "      <td>5</td>\n",
              "      <td>may</td>\n",
              "      <td>76</td>\n",
              "      <td>1</td>\n",
              "      <td>-1</td>\n",
              "      <td>0</td>\n",
              "      <td>unknown</td>\n",
              "      <td>no</td>\n",
              "    </tr>\n",
              "    <tr>\n",
              "      <th>3</th>\n",
              "      <td>47</td>\n",
              "      <td>blue-collar</td>\n",
              "      <td>married</td>\n",
              "      <td>unknown</td>\n",
              "      <td>no</td>\n",
              "      <td>1506</td>\n",
              "      <td>yes</td>\n",
              "      <td>no</td>\n",
              "      <td>unknown</td>\n",
              "      <td>5</td>\n",
              "      <td>may</td>\n",
              "      <td>92</td>\n",
              "      <td>1</td>\n",
              "      <td>-1</td>\n",
              "      <td>0</td>\n",
              "      <td>unknown</td>\n",
              "      <td>no</td>\n",
              "    </tr>\n",
              "    <tr>\n",
              "      <th>4</th>\n",
              "      <td>33</td>\n",
              "      <td>unknown</td>\n",
              "      <td>single</td>\n",
              "      <td>unknown</td>\n",
              "      <td>no</td>\n",
              "      <td>1</td>\n",
              "      <td>no</td>\n",
              "      <td>no</td>\n",
              "      <td>unknown</td>\n",
              "      <td>5</td>\n",
              "      <td>may</td>\n",
              "      <td>198</td>\n",
              "      <td>1</td>\n",
              "      <td>-1</td>\n",
              "      <td>0</td>\n",
              "      <td>unknown</td>\n",
              "      <td>no</td>\n",
              "    </tr>\n",
              "  </tbody>\n",
              "</table>\n",
              "</div>\n",
              "    <div class=\"colab-df-buttons\">\n",
              "\n",
              "  <div class=\"colab-df-container\">\n",
              "    <button class=\"colab-df-convert\" onclick=\"convertToInteractive('df-210e867b-1cf3-46b2-8373-71ee0e9a29c9')\"\n",
              "            title=\"Convert this dataframe to an interactive table.\"\n",
              "            style=\"display:none;\">\n",
              "\n",
              "  <svg xmlns=\"http://www.w3.org/2000/svg\" height=\"24px\" viewBox=\"0 -960 960 960\">\n",
              "    <path d=\"M120-120v-720h720v720H120Zm60-500h600v-160H180v160Zm220 220h160v-160H400v160Zm0 220h160v-160H400v160ZM180-400h160v-160H180v160Zm440 0h160v-160H620v160ZM180-180h160v-160H180v160Zm440 0h160v-160H620v160Z\"/>\n",
              "  </svg>\n",
              "    </button>\n",
              "\n",
              "  <style>\n",
              "    .colab-df-container {\n",
              "      display:flex;\n",
              "      gap: 12px;\n",
              "    }\n",
              "\n",
              "    .colab-df-convert {\n",
              "      background-color: #E8F0FE;\n",
              "      border: none;\n",
              "      border-radius: 50%;\n",
              "      cursor: pointer;\n",
              "      display: none;\n",
              "      fill: #1967D2;\n",
              "      height: 32px;\n",
              "      padding: 0 0 0 0;\n",
              "      width: 32px;\n",
              "    }\n",
              "\n",
              "    .colab-df-convert:hover {\n",
              "      background-color: #E2EBFA;\n",
              "      box-shadow: 0px 1px 2px rgba(60, 64, 67, 0.3), 0px 1px 3px 1px rgba(60, 64, 67, 0.15);\n",
              "      fill: #174EA6;\n",
              "    }\n",
              "\n",
              "    .colab-df-buttons div {\n",
              "      margin-bottom: 4px;\n",
              "    }\n",
              "\n",
              "    [theme=dark] .colab-df-convert {\n",
              "      background-color: #3B4455;\n",
              "      fill: #D2E3FC;\n",
              "    }\n",
              "\n",
              "    [theme=dark] .colab-df-convert:hover {\n",
              "      background-color: #434B5C;\n",
              "      box-shadow: 0px 1px 3px 1px rgba(0, 0, 0, 0.15);\n",
              "      filter: drop-shadow(0px 1px 2px rgba(0, 0, 0, 0.3));\n",
              "      fill: #FFFFFF;\n",
              "    }\n",
              "  </style>\n",
              "\n",
              "    <script>\n",
              "      const buttonEl =\n",
              "        document.querySelector('#df-210e867b-1cf3-46b2-8373-71ee0e9a29c9 button.colab-df-convert');\n",
              "      buttonEl.style.display =\n",
              "        google.colab.kernel.accessAllowed ? 'block' : 'none';\n",
              "\n",
              "      async function convertToInteractive(key) {\n",
              "        const element = document.querySelector('#df-210e867b-1cf3-46b2-8373-71ee0e9a29c9');\n",
              "        const dataTable =\n",
              "          await google.colab.kernel.invokeFunction('convertToInteractive',\n",
              "                                                    [key], {});\n",
              "        if (!dataTable) return;\n",
              "\n",
              "        const docLinkHtml = 'Like what you see? Visit the ' +\n",
              "          '<a target=\"_blank\" href=https://colab.research.google.com/notebooks/data_table.ipynb>data table notebook</a>'\n",
              "          + ' to learn more about interactive tables.';\n",
              "        element.innerHTML = '';\n",
              "        dataTable['output_type'] = 'display_data';\n",
              "        await google.colab.output.renderOutput(dataTable, element);\n",
              "        const docLink = document.createElement('div');\n",
              "        docLink.innerHTML = docLinkHtml;\n",
              "        element.appendChild(docLink);\n",
              "      }\n",
              "    </script>\n",
              "  </div>\n",
              "\n",
              "\n",
              "<div id=\"df-c7523007-8491-46a3-90e4-5168ced01604\">\n",
              "  <button class=\"colab-df-quickchart\" onclick=\"quickchart('df-c7523007-8491-46a3-90e4-5168ced01604')\"\n",
              "            title=\"Suggest charts\"\n",
              "            style=\"display:none;\">\n",
              "\n",
              "<svg xmlns=\"http://www.w3.org/2000/svg\" height=\"24px\"viewBox=\"0 0 24 24\"\n",
              "     width=\"24px\">\n",
              "    <g>\n",
              "        <path d=\"M19 3H5c-1.1 0-2 .9-2 2v14c0 1.1.9 2 2 2h14c1.1 0 2-.9 2-2V5c0-1.1-.9-2-2-2zM9 17H7v-7h2v7zm4 0h-2V7h2v10zm4 0h-2v-4h2v4z\"/>\n",
              "    </g>\n",
              "</svg>\n",
              "  </button>\n",
              "\n",
              "<style>\n",
              "  .colab-df-quickchart {\n",
              "      --bg-color: #E8F0FE;\n",
              "      --fill-color: #1967D2;\n",
              "      --hover-bg-color: #E2EBFA;\n",
              "      --hover-fill-color: #174EA6;\n",
              "      --disabled-fill-color: #AAA;\n",
              "      --disabled-bg-color: #DDD;\n",
              "  }\n",
              "\n",
              "  [theme=dark] .colab-df-quickchart {\n",
              "      --bg-color: #3B4455;\n",
              "      --fill-color: #D2E3FC;\n",
              "      --hover-bg-color: #434B5C;\n",
              "      --hover-fill-color: #FFFFFF;\n",
              "      --disabled-bg-color: #3B4455;\n",
              "      --disabled-fill-color: #666;\n",
              "  }\n",
              "\n",
              "  .colab-df-quickchart {\n",
              "    background-color: var(--bg-color);\n",
              "    border: none;\n",
              "    border-radius: 50%;\n",
              "    cursor: pointer;\n",
              "    display: none;\n",
              "    fill: var(--fill-color);\n",
              "    height: 32px;\n",
              "    padding: 0;\n",
              "    width: 32px;\n",
              "  }\n",
              "\n",
              "  .colab-df-quickchart:hover {\n",
              "    background-color: var(--hover-bg-color);\n",
              "    box-shadow: 0 1px 2px rgba(60, 64, 67, 0.3), 0 1px 3px 1px rgba(60, 64, 67, 0.15);\n",
              "    fill: var(--button-hover-fill-color);\n",
              "  }\n",
              "\n",
              "  .colab-df-quickchart-complete:disabled,\n",
              "  .colab-df-quickchart-complete:disabled:hover {\n",
              "    background-color: var(--disabled-bg-color);\n",
              "    fill: var(--disabled-fill-color);\n",
              "    box-shadow: none;\n",
              "  }\n",
              "\n",
              "  .colab-df-spinner {\n",
              "    border: 2px solid var(--fill-color);\n",
              "    border-color: transparent;\n",
              "    border-bottom-color: var(--fill-color);\n",
              "    animation:\n",
              "      spin 1s steps(1) infinite;\n",
              "  }\n",
              "\n",
              "  @keyframes spin {\n",
              "    0% {\n",
              "      border-color: transparent;\n",
              "      border-bottom-color: var(--fill-color);\n",
              "      border-left-color: var(--fill-color);\n",
              "    }\n",
              "    20% {\n",
              "      border-color: transparent;\n",
              "      border-left-color: var(--fill-color);\n",
              "      border-top-color: var(--fill-color);\n",
              "    }\n",
              "    30% {\n",
              "      border-color: transparent;\n",
              "      border-left-color: var(--fill-color);\n",
              "      border-top-color: var(--fill-color);\n",
              "      border-right-color: var(--fill-color);\n",
              "    }\n",
              "    40% {\n",
              "      border-color: transparent;\n",
              "      border-right-color: var(--fill-color);\n",
              "      border-top-color: var(--fill-color);\n",
              "    }\n",
              "    60% {\n",
              "      border-color: transparent;\n",
              "      border-right-color: var(--fill-color);\n",
              "    }\n",
              "    80% {\n",
              "      border-color: transparent;\n",
              "      border-right-color: var(--fill-color);\n",
              "      border-bottom-color: var(--fill-color);\n",
              "    }\n",
              "    90% {\n",
              "      border-color: transparent;\n",
              "      border-bottom-color: var(--fill-color);\n",
              "    }\n",
              "  }\n",
              "</style>\n",
              "\n",
              "  <script>\n",
              "    async function quickchart(key) {\n",
              "      const quickchartButtonEl =\n",
              "        document.querySelector('#' + key + ' button');\n",
              "      quickchartButtonEl.disabled = true;  // To prevent multiple clicks.\n",
              "      quickchartButtonEl.classList.add('colab-df-spinner');\n",
              "      try {\n",
              "        const charts = await google.colab.kernel.invokeFunction(\n",
              "            'suggestCharts', [key], {});\n",
              "      } catch (error) {\n",
              "        console.error('Error during call to suggestCharts:', error);\n",
              "      }\n",
              "      quickchartButtonEl.classList.remove('colab-df-spinner');\n",
              "      quickchartButtonEl.classList.add('colab-df-quickchart-complete');\n",
              "    }\n",
              "    (() => {\n",
              "      let quickchartButtonEl =\n",
              "        document.querySelector('#df-c7523007-8491-46a3-90e4-5168ced01604 button');\n",
              "      quickchartButtonEl.style.display =\n",
              "        google.colab.kernel.accessAllowed ? 'block' : 'none';\n",
              "    })();\n",
              "  </script>\n",
              "</div>\n",
              "\n",
              "    </div>\n",
              "  </div>\n"
            ],
            "application/vnd.google.colaboratory.intrinsic+json": {
              "type": "dataframe",
              "variable_name": "bank_df",
              "summary": "{\n  \"name\": \"bank_df\",\n  \"rows\": 45211,\n  \"fields\": [\n    {\n      \"column\": \"age\",\n      \"properties\": {\n        \"dtype\": \"number\",\n        \"std\": 10,\n        \"min\": 18,\n        \"max\": 95,\n        \"num_unique_values\": 77,\n        \"samples\": [\n          35,\n          34,\n          53\n        ],\n        \"semantic_type\": \"\",\n        \"description\": \"\"\n      }\n    },\n    {\n      \"column\": \"job\",\n      \"properties\": {\n        \"dtype\": \"category\",\n        \"num_unique_values\": 12,\n        \"samples\": [\n          \"housemaid\",\n          \"unemployed\",\n          \"management\"\n        ],\n        \"semantic_type\": \"\",\n        \"description\": \"\"\n      }\n    },\n    {\n      \"column\": \"marital\",\n      \"properties\": {\n        \"dtype\": \"category\",\n        \"num_unique_values\": 3,\n        \"samples\": [\n          \"married\",\n          \"single\",\n          \"divorced\"\n        ],\n        \"semantic_type\": \"\",\n        \"description\": \"\"\n      }\n    },\n    {\n      \"column\": \"education\",\n      \"properties\": {\n        \"dtype\": \"category\",\n        \"num_unique_values\": 4,\n        \"samples\": [\n          \"secondary\",\n          \"primary\",\n          \"tertiary\"\n        ],\n        \"semantic_type\": \"\",\n        \"description\": \"\"\n      }\n    },\n    {\n      \"column\": \"default\",\n      \"properties\": {\n        \"dtype\": \"category\",\n        \"num_unique_values\": 2,\n        \"samples\": [\n          \"yes\",\n          \"no\"\n        ],\n        \"semantic_type\": \"\",\n        \"description\": \"\"\n      }\n    },\n    {\n      \"column\": \"balance\",\n      \"properties\": {\n        \"dtype\": \"number\",\n        \"std\": 3044,\n        \"min\": -8019,\n        \"max\": 102127,\n        \"num_unique_values\": 7168,\n        \"samples\": [\n          3276,\n          43\n        ],\n        \"semantic_type\": \"\",\n        \"description\": \"\"\n      }\n    },\n    {\n      \"column\": \"housing\",\n      \"properties\": {\n        \"dtype\": \"category\",\n        \"num_unique_values\": 2,\n        \"samples\": [\n          \"no\",\n          \"yes\"\n        ],\n        \"semantic_type\": \"\",\n        \"description\": \"\"\n      }\n    },\n    {\n      \"column\": \"loan\",\n      \"properties\": {\n        \"dtype\": \"category\",\n        \"num_unique_values\": 2,\n        \"samples\": [\n          \"yes\",\n          \"no\"\n        ],\n        \"semantic_type\": \"\",\n        \"description\": \"\"\n      }\n    },\n    {\n      \"column\": \"contact\",\n      \"properties\": {\n        \"dtype\": \"category\",\n        \"num_unique_values\": 3,\n        \"samples\": [\n          \"unknown\",\n          \"cellular\"\n        ],\n        \"semantic_type\": \"\",\n        \"description\": \"\"\n      }\n    },\n    {\n      \"column\": \"day\",\n      \"properties\": {\n        \"dtype\": \"number\",\n        \"std\": 8,\n        \"min\": 1,\n        \"max\": 31,\n        \"num_unique_values\": 31,\n        \"samples\": [\n          1,\n          27\n        ],\n        \"semantic_type\": \"\",\n        \"description\": \"\"\n      }\n    },\n    {\n      \"column\": \"month\",\n      \"properties\": {\n        \"dtype\": \"category\",\n        \"num_unique_values\": 12,\n        \"samples\": [\n          \"apr\",\n          \"mar\"\n        ],\n        \"semantic_type\": \"\",\n        \"description\": \"\"\n      }\n    },\n    {\n      \"column\": \"duration\",\n      \"properties\": {\n        \"dtype\": \"number\",\n        \"std\": 257,\n        \"min\": 0,\n        \"max\": 4918,\n        \"num_unique_values\": 1573,\n        \"samples\": [\n          835,\n          1135\n        ],\n        \"semantic_type\": \"\",\n        \"description\": \"\"\n      }\n    },\n    {\n      \"column\": \"campaign\",\n      \"properties\": {\n        \"dtype\": \"number\",\n        \"std\": 3,\n        \"min\": 1,\n        \"max\": 63,\n        \"num_unique_values\": 48,\n        \"samples\": [\n          41,\n          27\n        ],\n        \"semantic_type\": \"\",\n        \"description\": \"\"\n      }\n    },\n    {\n      \"column\": \"pdays\",\n      \"properties\": {\n        \"dtype\": \"number\",\n        \"std\": 100,\n        \"min\": -1,\n        \"max\": 871,\n        \"num_unique_values\": 559,\n        \"samples\": [\n          249,\n          551\n        ],\n        \"semantic_type\": \"\",\n        \"description\": \"\"\n      }\n    },\n    {\n      \"column\": \"previous\",\n      \"properties\": {\n        \"dtype\": \"number\",\n        \"std\": 2,\n        \"min\": 0,\n        \"max\": 275,\n        \"num_unique_values\": 41,\n        \"samples\": [\n          17,\n          9\n        ],\n        \"semantic_type\": \"\",\n        \"description\": \"\"\n      }\n    },\n    {\n      \"column\": \"poutcome\",\n      \"properties\": {\n        \"dtype\": \"category\",\n        \"num_unique_values\": 4,\n        \"samples\": [\n          \"failure\",\n          \"success\"\n        ],\n        \"semantic_type\": \"\",\n        \"description\": \"\"\n      }\n    },\n    {\n      \"column\": \"y\",\n      \"properties\": {\n        \"dtype\": \"category\",\n        \"num_unique_values\": 2,\n        \"samples\": [\n          \"yes\",\n          \"no\"\n        ],\n        \"semantic_type\": \"\",\n        \"description\": \"\"\n      }\n    }\n  ]\n}"
            }
          },
          "metadata": {},
          "execution_count": 2
        }
      ]
    },
    {
      "cell_type": "markdown",
      "source": [
        "2. Check info of the DataFrame and identify following:\\\n",
        "(a) columns with dtypes=object"
      ],
      "metadata": {
        "id": "m9ylj4mQIoql"
      }
    },
    {
      "cell_type": "code",
      "source": [
        "\n",
        "columns_df = bank_df.select_dtypes(include=['object'])\n",
        "columns_df.head()"
      ],
      "metadata": {
        "colab": {
          "base_uri": "https://localhost:8080/",
          "height": 206
        },
        "id": "eBqqroVEItrB",
        "outputId": "c798e45f-8e47-4b36-ffe2-63f2660dda39"
      },
      "execution_count": 3,
      "outputs": [
        {
          "output_type": "execute_result",
          "data": {
            "text/plain": [
              "            job  marital  education default housing loan  contact month  \\\n",
              "0    management  married   tertiary      no     yes   no  unknown   may   \n",
              "1    technician   single  secondary      no     yes   no  unknown   may   \n",
              "2  entrepreneur  married  secondary      no     yes  yes  unknown   may   \n",
              "3   blue-collar  married    unknown      no     yes   no  unknown   may   \n",
              "4       unknown   single    unknown      no      no   no  unknown   may   \n",
              "\n",
              "  poutcome   y  \n",
              "0  unknown  no  \n",
              "1  unknown  no  \n",
              "2  unknown  no  \n",
              "3  unknown  no  \n",
              "4  unknown  no  "
            ],
            "text/html": [
              "\n",
              "  <div id=\"df-278ecffd-4db6-4d17-a3ef-0031bce14bac\" class=\"colab-df-container\">\n",
              "    <div>\n",
              "<style scoped>\n",
              "    .dataframe tbody tr th:only-of-type {\n",
              "        vertical-align: middle;\n",
              "    }\n",
              "\n",
              "    .dataframe tbody tr th {\n",
              "        vertical-align: top;\n",
              "    }\n",
              "\n",
              "    .dataframe thead th {\n",
              "        text-align: right;\n",
              "    }\n",
              "</style>\n",
              "<table border=\"1\" class=\"dataframe\">\n",
              "  <thead>\n",
              "    <tr style=\"text-align: right;\">\n",
              "      <th></th>\n",
              "      <th>job</th>\n",
              "      <th>marital</th>\n",
              "      <th>education</th>\n",
              "      <th>default</th>\n",
              "      <th>housing</th>\n",
              "      <th>loan</th>\n",
              "      <th>contact</th>\n",
              "      <th>month</th>\n",
              "      <th>poutcome</th>\n",
              "      <th>y</th>\n",
              "    </tr>\n",
              "  </thead>\n",
              "  <tbody>\n",
              "    <tr>\n",
              "      <th>0</th>\n",
              "      <td>management</td>\n",
              "      <td>married</td>\n",
              "      <td>tertiary</td>\n",
              "      <td>no</td>\n",
              "      <td>yes</td>\n",
              "      <td>no</td>\n",
              "      <td>unknown</td>\n",
              "      <td>may</td>\n",
              "      <td>unknown</td>\n",
              "      <td>no</td>\n",
              "    </tr>\n",
              "    <tr>\n",
              "      <th>1</th>\n",
              "      <td>technician</td>\n",
              "      <td>single</td>\n",
              "      <td>secondary</td>\n",
              "      <td>no</td>\n",
              "      <td>yes</td>\n",
              "      <td>no</td>\n",
              "      <td>unknown</td>\n",
              "      <td>may</td>\n",
              "      <td>unknown</td>\n",
              "      <td>no</td>\n",
              "    </tr>\n",
              "    <tr>\n",
              "      <th>2</th>\n",
              "      <td>entrepreneur</td>\n",
              "      <td>married</td>\n",
              "      <td>secondary</td>\n",
              "      <td>no</td>\n",
              "      <td>yes</td>\n",
              "      <td>yes</td>\n",
              "      <td>unknown</td>\n",
              "      <td>may</td>\n",
              "      <td>unknown</td>\n",
              "      <td>no</td>\n",
              "    </tr>\n",
              "    <tr>\n",
              "      <th>3</th>\n",
              "      <td>blue-collar</td>\n",
              "      <td>married</td>\n",
              "      <td>unknown</td>\n",
              "      <td>no</td>\n",
              "      <td>yes</td>\n",
              "      <td>no</td>\n",
              "      <td>unknown</td>\n",
              "      <td>may</td>\n",
              "      <td>unknown</td>\n",
              "      <td>no</td>\n",
              "    </tr>\n",
              "    <tr>\n",
              "      <th>4</th>\n",
              "      <td>unknown</td>\n",
              "      <td>single</td>\n",
              "      <td>unknown</td>\n",
              "      <td>no</td>\n",
              "      <td>no</td>\n",
              "      <td>no</td>\n",
              "      <td>unknown</td>\n",
              "      <td>may</td>\n",
              "      <td>unknown</td>\n",
              "      <td>no</td>\n",
              "    </tr>\n",
              "  </tbody>\n",
              "</table>\n",
              "</div>\n",
              "    <div class=\"colab-df-buttons\">\n",
              "\n",
              "  <div class=\"colab-df-container\">\n",
              "    <button class=\"colab-df-convert\" onclick=\"convertToInteractive('df-278ecffd-4db6-4d17-a3ef-0031bce14bac')\"\n",
              "            title=\"Convert this dataframe to an interactive table.\"\n",
              "            style=\"display:none;\">\n",
              "\n",
              "  <svg xmlns=\"http://www.w3.org/2000/svg\" height=\"24px\" viewBox=\"0 -960 960 960\">\n",
              "    <path d=\"M120-120v-720h720v720H120Zm60-500h600v-160H180v160Zm220 220h160v-160H400v160Zm0 220h160v-160H400v160ZM180-400h160v-160H180v160Zm440 0h160v-160H620v160ZM180-180h160v-160H180v160Zm440 0h160v-160H620v160Z\"/>\n",
              "  </svg>\n",
              "    </button>\n",
              "\n",
              "  <style>\n",
              "    .colab-df-container {\n",
              "      display:flex;\n",
              "      gap: 12px;\n",
              "    }\n",
              "\n",
              "    .colab-df-convert {\n",
              "      background-color: #E8F0FE;\n",
              "      border: none;\n",
              "      border-radius: 50%;\n",
              "      cursor: pointer;\n",
              "      display: none;\n",
              "      fill: #1967D2;\n",
              "      height: 32px;\n",
              "      padding: 0 0 0 0;\n",
              "      width: 32px;\n",
              "    }\n",
              "\n",
              "    .colab-df-convert:hover {\n",
              "      background-color: #E2EBFA;\n",
              "      box-shadow: 0px 1px 2px rgba(60, 64, 67, 0.3), 0px 1px 3px 1px rgba(60, 64, 67, 0.15);\n",
              "      fill: #174EA6;\n",
              "    }\n",
              "\n",
              "    .colab-df-buttons div {\n",
              "      margin-bottom: 4px;\n",
              "    }\n",
              "\n",
              "    [theme=dark] .colab-df-convert {\n",
              "      background-color: #3B4455;\n",
              "      fill: #D2E3FC;\n",
              "    }\n",
              "\n",
              "    [theme=dark] .colab-df-convert:hover {\n",
              "      background-color: #434B5C;\n",
              "      box-shadow: 0px 1px 3px 1px rgba(0, 0, 0, 0.15);\n",
              "      filter: drop-shadow(0px 1px 2px rgba(0, 0, 0, 0.3));\n",
              "      fill: #FFFFFF;\n",
              "    }\n",
              "  </style>\n",
              "\n",
              "    <script>\n",
              "      const buttonEl =\n",
              "        document.querySelector('#df-278ecffd-4db6-4d17-a3ef-0031bce14bac button.colab-df-convert');\n",
              "      buttonEl.style.display =\n",
              "        google.colab.kernel.accessAllowed ? 'block' : 'none';\n",
              "\n",
              "      async function convertToInteractive(key) {\n",
              "        const element = document.querySelector('#df-278ecffd-4db6-4d17-a3ef-0031bce14bac');\n",
              "        const dataTable =\n",
              "          await google.colab.kernel.invokeFunction('convertToInteractive',\n",
              "                                                    [key], {});\n",
              "        if (!dataTable) return;\n",
              "\n",
              "        const docLinkHtml = 'Like what you see? Visit the ' +\n",
              "          '<a target=\"_blank\" href=https://colab.research.google.com/notebooks/data_table.ipynb>data table notebook</a>'\n",
              "          + ' to learn more about interactive tables.';\n",
              "        element.innerHTML = '';\n",
              "        dataTable['output_type'] = 'display_data';\n",
              "        await google.colab.output.renderOutput(dataTable, element);\n",
              "        const docLink = document.createElement('div');\n",
              "        docLink.innerHTML = docLinkHtml;\n",
              "        element.appendChild(docLink);\n",
              "      }\n",
              "    </script>\n",
              "  </div>\n",
              "\n",
              "\n",
              "<div id=\"df-52a8f694-537d-4a0e-8de7-a6524119c67e\">\n",
              "  <button class=\"colab-df-quickchart\" onclick=\"quickchart('df-52a8f694-537d-4a0e-8de7-a6524119c67e')\"\n",
              "            title=\"Suggest charts\"\n",
              "            style=\"display:none;\">\n",
              "\n",
              "<svg xmlns=\"http://www.w3.org/2000/svg\" height=\"24px\"viewBox=\"0 0 24 24\"\n",
              "     width=\"24px\">\n",
              "    <g>\n",
              "        <path d=\"M19 3H5c-1.1 0-2 .9-2 2v14c0 1.1.9 2 2 2h14c1.1 0 2-.9 2-2V5c0-1.1-.9-2-2-2zM9 17H7v-7h2v7zm4 0h-2V7h2v10zm4 0h-2v-4h2v4z\"/>\n",
              "    </g>\n",
              "</svg>\n",
              "  </button>\n",
              "\n",
              "<style>\n",
              "  .colab-df-quickchart {\n",
              "      --bg-color: #E8F0FE;\n",
              "      --fill-color: #1967D2;\n",
              "      --hover-bg-color: #E2EBFA;\n",
              "      --hover-fill-color: #174EA6;\n",
              "      --disabled-fill-color: #AAA;\n",
              "      --disabled-bg-color: #DDD;\n",
              "  }\n",
              "\n",
              "  [theme=dark] .colab-df-quickchart {\n",
              "      --bg-color: #3B4455;\n",
              "      --fill-color: #D2E3FC;\n",
              "      --hover-bg-color: #434B5C;\n",
              "      --hover-fill-color: #FFFFFF;\n",
              "      --disabled-bg-color: #3B4455;\n",
              "      --disabled-fill-color: #666;\n",
              "  }\n",
              "\n",
              "  .colab-df-quickchart {\n",
              "    background-color: var(--bg-color);\n",
              "    border: none;\n",
              "    border-radius: 50%;\n",
              "    cursor: pointer;\n",
              "    display: none;\n",
              "    fill: var(--fill-color);\n",
              "    height: 32px;\n",
              "    padding: 0;\n",
              "    width: 32px;\n",
              "  }\n",
              "\n",
              "  .colab-df-quickchart:hover {\n",
              "    background-color: var(--hover-bg-color);\n",
              "    box-shadow: 0 1px 2px rgba(60, 64, 67, 0.3), 0 1px 3px 1px rgba(60, 64, 67, 0.15);\n",
              "    fill: var(--button-hover-fill-color);\n",
              "  }\n",
              "\n",
              "  .colab-df-quickchart-complete:disabled,\n",
              "  .colab-df-quickchart-complete:disabled:hover {\n",
              "    background-color: var(--disabled-bg-color);\n",
              "    fill: var(--disabled-fill-color);\n",
              "    box-shadow: none;\n",
              "  }\n",
              "\n",
              "  .colab-df-spinner {\n",
              "    border: 2px solid var(--fill-color);\n",
              "    border-color: transparent;\n",
              "    border-bottom-color: var(--fill-color);\n",
              "    animation:\n",
              "      spin 1s steps(1) infinite;\n",
              "  }\n",
              "\n",
              "  @keyframes spin {\n",
              "    0% {\n",
              "      border-color: transparent;\n",
              "      border-bottom-color: var(--fill-color);\n",
              "      border-left-color: var(--fill-color);\n",
              "    }\n",
              "    20% {\n",
              "      border-color: transparent;\n",
              "      border-left-color: var(--fill-color);\n",
              "      border-top-color: var(--fill-color);\n",
              "    }\n",
              "    30% {\n",
              "      border-color: transparent;\n",
              "      border-left-color: var(--fill-color);\n",
              "      border-top-color: var(--fill-color);\n",
              "      border-right-color: var(--fill-color);\n",
              "    }\n",
              "    40% {\n",
              "      border-color: transparent;\n",
              "      border-right-color: var(--fill-color);\n",
              "      border-top-color: var(--fill-color);\n",
              "    }\n",
              "    60% {\n",
              "      border-color: transparent;\n",
              "      border-right-color: var(--fill-color);\n",
              "    }\n",
              "    80% {\n",
              "      border-color: transparent;\n",
              "      border-right-color: var(--fill-color);\n",
              "      border-bottom-color: var(--fill-color);\n",
              "    }\n",
              "    90% {\n",
              "      border-color: transparent;\n",
              "      border-bottom-color: var(--fill-color);\n",
              "    }\n",
              "  }\n",
              "</style>\n",
              "\n",
              "  <script>\n",
              "    async function quickchart(key) {\n",
              "      const quickchartButtonEl =\n",
              "        document.querySelector('#' + key + ' button');\n",
              "      quickchartButtonEl.disabled = true;  // To prevent multiple clicks.\n",
              "      quickchartButtonEl.classList.add('colab-df-spinner');\n",
              "      try {\n",
              "        const charts = await google.colab.kernel.invokeFunction(\n",
              "            'suggestCharts', [key], {});\n",
              "      } catch (error) {\n",
              "        console.error('Error during call to suggestCharts:', error);\n",
              "      }\n",
              "      quickchartButtonEl.classList.remove('colab-df-spinner');\n",
              "      quickchartButtonEl.classList.add('colab-df-quickchart-complete');\n",
              "    }\n",
              "    (() => {\n",
              "      let quickchartButtonEl =\n",
              "        document.querySelector('#df-52a8f694-537d-4a0e-8de7-a6524119c67e button');\n",
              "      quickchartButtonEl.style.display =\n",
              "        google.colab.kernel.accessAllowed ? 'block' : 'none';\n",
              "    })();\n",
              "  </script>\n",
              "</div>\n",
              "\n",
              "    </div>\n",
              "  </div>\n"
            ],
            "application/vnd.google.colaboratory.intrinsic+json": {
              "type": "dataframe",
              "variable_name": "columns_df",
              "summary": "{\n  \"name\": \"columns_df\",\n  \"rows\": 45211,\n  \"fields\": [\n    {\n      \"column\": \"job\",\n      \"properties\": {\n        \"dtype\": \"category\",\n        \"num_unique_values\": 12,\n        \"samples\": [\n          \"housemaid\",\n          \"unemployed\",\n          \"management\"\n        ],\n        \"semantic_type\": \"\",\n        \"description\": \"\"\n      }\n    },\n    {\n      \"column\": \"marital\",\n      \"properties\": {\n        \"dtype\": \"category\",\n        \"num_unique_values\": 3,\n        \"samples\": [\n          \"married\",\n          \"single\",\n          \"divorced\"\n        ],\n        \"semantic_type\": \"\",\n        \"description\": \"\"\n      }\n    },\n    {\n      \"column\": \"education\",\n      \"properties\": {\n        \"dtype\": \"category\",\n        \"num_unique_values\": 4,\n        \"samples\": [\n          \"secondary\",\n          \"primary\",\n          \"tertiary\"\n        ],\n        \"semantic_type\": \"\",\n        \"description\": \"\"\n      }\n    },\n    {\n      \"column\": \"default\",\n      \"properties\": {\n        \"dtype\": \"category\",\n        \"num_unique_values\": 2,\n        \"samples\": [\n          \"yes\",\n          \"no\"\n        ],\n        \"semantic_type\": \"\",\n        \"description\": \"\"\n      }\n    },\n    {\n      \"column\": \"housing\",\n      \"properties\": {\n        \"dtype\": \"category\",\n        \"num_unique_values\": 2,\n        \"samples\": [\n          \"no\",\n          \"yes\"\n        ],\n        \"semantic_type\": \"\",\n        \"description\": \"\"\n      }\n    },\n    {\n      \"column\": \"loan\",\n      \"properties\": {\n        \"dtype\": \"category\",\n        \"num_unique_values\": 2,\n        \"samples\": [\n          \"yes\",\n          \"no\"\n        ],\n        \"semantic_type\": \"\",\n        \"description\": \"\"\n      }\n    },\n    {\n      \"column\": \"contact\",\n      \"properties\": {\n        \"dtype\": \"category\",\n        \"num_unique_values\": 3,\n        \"samples\": [\n          \"unknown\",\n          \"cellular\"\n        ],\n        \"semantic_type\": \"\",\n        \"description\": \"\"\n      }\n    },\n    {\n      \"column\": \"month\",\n      \"properties\": {\n        \"dtype\": \"category\",\n        \"num_unique_values\": 12,\n        \"samples\": [\n          \"apr\",\n          \"mar\"\n        ],\n        \"semantic_type\": \"\",\n        \"description\": \"\"\n      }\n    },\n    {\n      \"column\": \"poutcome\",\n      \"properties\": {\n        \"dtype\": \"category\",\n        \"num_unique_values\": 4,\n        \"samples\": [\n          \"failure\",\n          \"success\"\n        ],\n        \"semantic_type\": \"\",\n        \"description\": \"\"\n      }\n    },\n    {\n      \"column\": \"y\",\n      \"properties\": {\n        \"dtype\": \"category\",\n        \"num_unique_values\": 2,\n        \"samples\": [\n          \"yes\",\n          \"no\"\n        ],\n        \"semantic_type\": \"\",\n        \"description\": \"\"\n      }\n    }\n  ]\n}"
            }
          },
          "metadata": {},
          "execution_count": 3
        }
      ]
    },
    {
      "cell_type": "markdown",
      "source": [
        "(b) unique values of those columns."
      ],
      "metadata": {
        "id": "gmBPDnVTJKpd"
      }
    },
    {
      "cell_type": "code",
      "source": [
        "for column in columns_df:\n",
        "  print(f\"Unique value of column ${column}\")\n",
        "  print(columns_df[column].unique())\n",
        "  print(\"\\n\")\n"
      ],
      "metadata": {
        "colab": {
          "base_uri": "https://localhost:8080/"
        },
        "id": "KSDrO6iIJKDV",
        "outputId": "785f074b-21df-436a-c5cf-3ad065624d70"
      },
      "execution_count": 4,
      "outputs": [
        {
          "output_type": "stream",
          "name": "stdout",
          "text": [
            "Unique value of column $job\n",
            "['management' 'technician' 'entrepreneur' 'blue-collar' 'unknown'\n",
            " 'retired' 'admin.' 'services' 'self-employed' 'unemployed' 'housemaid'\n",
            " 'student']\n",
            "\n",
            "\n",
            "Unique value of column $marital\n",
            "['married' 'single' 'divorced']\n",
            "\n",
            "\n",
            "Unique value of column $education\n",
            "['tertiary' 'secondary' 'unknown' 'primary']\n",
            "\n",
            "\n",
            "Unique value of column $default\n",
            "['no' 'yes']\n",
            "\n",
            "\n",
            "Unique value of column $housing\n",
            "['yes' 'no']\n",
            "\n",
            "\n",
            "Unique value of column $loan\n",
            "['no' 'yes']\n",
            "\n",
            "\n",
            "Unique value of column $contact\n",
            "['unknown' 'cellular' 'telephone']\n",
            "\n",
            "\n",
            "Unique value of column $month\n",
            "['may' 'jun' 'jul' 'aug' 'oct' 'nov' 'dec' 'jan' 'feb' 'mar' 'apr' 'sep']\n",
            "\n",
            "\n",
            "Unique value of column $poutcome\n",
            "['unknown' 'failure' 'other' 'success']\n",
            "\n",
            "\n",
            "Unique value of column $y\n",
            "['no' 'yes']\n",
            "\n",
            "\n"
          ]
        }
      ]
    },
    {
      "cell_type": "markdown",
      "source": [
        "(c) check for the total number of null values in each column."
      ],
      "metadata": {
        "id": "BzE3ho71J_Br"
      }
    },
    {
      "cell_type": "code",
      "source": [
        "null_values_df = bank_df.isnull().sum()\n",
        "print(\"Total null values in each column:\")\n",
        "print(null_values_df)"
      ],
      "metadata": {
        "colab": {
          "base_uri": "https://localhost:8080/"
        },
        "id": "1XRMh7bwKBDb",
        "outputId": "5fb63cab-b08e-4c5b-c8ab-a8fd8c913fdf"
      },
      "execution_count": 5,
      "outputs": [
        {
          "output_type": "stream",
          "name": "stdout",
          "text": [
            "Total null values in each column:\n",
            "age          0\n",
            "job          0\n",
            "marital      0\n",
            "education    0\n",
            "default      0\n",
            "balance      0\n",
            "housing      0\n",
            "loan         0\n",
            "contact      0\n",
            "day          0\n",
            "month        0\n",
            "duration     0\n",
            "campaign     0\n",
            "pdays        0\n",
            "previous     0\n",
            "poutcome     0\n",
            "y            0\n",
            "dtype: int64\n"
          ]
        }
      ]
    },
    {
      "cell_type": "markdown",
      "source": [
        "3. Drop all the columns with dtypes object and store in new DataFrame, also write the DataFrame in\n",
        "”.csv” with name ”banknumericdata.csv”"
      ],
      "metadata": {
        "id": "mwAOuDwtKRiF"
      }
    },
    {
      "cell_type": "code",
      "source": [
        "new_df = bank_df.select_dtypes(exclude='object')\n",
        "print(new_df)\n",
        "new_df.to_csv(\"/content/drive/MyDrive/Concepts of AI/Week2/Datasets/banknumericdata.csv\")"
      ],
      "metadata": {
        "colab": {
          "base_uri": "https://localhost:8080/"
        },
        "id": "rNQAyPIfKUGq",
        "outputId": "179479a2-0d95-4772-a5ba-6aafbcdb230e"
      },
      "execution_count": 7,
      "outputs": [
        {
          "output_type": "stream",
          "name": "stdout",
          "text": [
            "       age  balance  day  duration  campaign  pdays  previous\n",
            "0       58     2143    5       261         1     -1         0\n",
            "1       44       29    5       151         1     -1         0\n",
            "2       33        2    5        76         1     -1         0\n",
            "3       47     1506    5        92         1     -1         0\n",
            "4       33        1    5       198         1     -1         0\n",
            "...    ...      ...  ...       ...       ...    ...       ...\n",
            "45206   51      825   17       977         3     -1         0\n",
            "45207   71     1729   17       456         2     -1         0\n",
            "45208   72     5715   17      1127         5    184         3\n",
            "45209   57      668   17       508         4     -1         0\n",
            "45210   37     2971   17       361         2    188        11\n",
            "\n",
            "[45211 rows x 7 columns]\n"
          ]
        }
      ]
    },
    {
      "cell_type": "markdown",
      "source": [
        "4. Read ”banknumericdata.csv” and Find the summary statistics."
      ],
      "metadata": {
        "id": "SUTmnhHyLkgc"
      }
    },
    {
      "cell_type": "code",
      "source": [
        "bank_numeric_df = pd.read_csv(\"/content/drive/MyDrive/Concepts of AI/Week2/Datasets/banknumericdata.csv\")\n",
        "print(bank_numeric_df.describe())"
      ],
      "metadata": {
        "colab": {
          "base_uri": "https://localhost:8080/"
        },
        "id": "BXVSV-hlLnxZ",
        "outputId": "aabb1315-9a8f-4f92-a318-1c30906f2662"
      },
      "execution_count": 8,
      "outputs": [
        {
          "output_type": "stream",
          "name": "stdout",
          "text": [
            "         Unnamed: 0           age        balance           day      duration  \\\n",
            "count  45211.000000  45211.000000   45211.000000  45211.000000  45211.000000   \n",
            "mean   22605.000000     40.936210    1362.272058     15.806419    258.163080   \n",
            "std    13051.435847     10.618762    3044.765829      8.322476    257.527812   \n",
            "min        0.000000     18.000000   -8019.000000      1.000000      0.000000   \n",
            "25%    11302.500000     33.000000      72.000000      8.000000    103.000000   \n",
            "50%    22605.000000     39.000000     448.000000     16.000000    180.000000   \n",
            "75%    33907.500000     48.000000    1428.000000     21.000000    319.000000   \n",
            "max    45210.000000     95.000000  102127.000000     31.000000   4918.000000   \n",
            "\n",
            "           campaign         pdays      previous  \n",
            "count  45211.000000  45211.000000  45211.000000  \n",
            "mean       2.763841     40.197828      0.580323  \n",
            "std        3.098021    100.128746      2.303441  \n",
            "min        1.000000     -1.000000      0.000000  \n",
            "25%        1.000000     -1.000000      0.000000  \n",
            "50%        2.000000     -1.000000      0.000000  \n",
            "75%        3.000000     -1.000000      0.000000  \n",
            "max       63.000000    871.000000    275.000000  \n"
          ]
        }
      ]
    },
    {
      "cell_type": "markdown",
      "source": [
        "Problem 2 - Data Imputations:\\\n",
        "Complete all the following Task:\\\n",
        "• Dataset for the Task: \"medical_student.csv\""
      ],
      "metadata": {
        "id": "h9V-o54OL9qr"
      }
    },
    {
      "cell_type": "markdown",
      "source": [
        "1. Load the provided dataset and import in pandas DataFrame."
      ],
      "metadata": {
        "id": "GfqXSlvEMEeK"
      }
    },
    {
      "cell_type": "code",
      "source": [
        "import pandas as pd\n",
        "\n",
        "med_students_df = pd.read_csv(\"/content/drive/MyDrive/Concepts of AI/Week2/Datasets/medical_students_dataset.csv\")\n",
        "print(med_students_df.info)"
      ],
      "metadata": {
        "colab": {
          "base_uri": "https://localhost:8080/"
        },
        "id": "YE85mmvSMKZO",
        "outputId": "7a8890b5-dc8a-4757-de99-bf110c7f2b64"
      },
      "execution_count": 9,
      "outputs": [
        {
          "output_type": "stream",
          "name": "stdout",
          "text": [
            "<bound method DataFrame.info of         Student ID   Age  Gender      Height     Weight Blood Type        BMI  \\\n",
            "0              1.0  18.0  Female  161.777924  72.354947          O  27.645835   \n",
            "1              2.0   NaN    Male  152.069157  47.630941          B        NaN   \n",
            "2              3.0  32.0  Female  182.537664  55.741083          A  16.729017   \n",
            "3              NaN  30.0    Male  182.112867  63.332207          B  19.096042   \n",
            "4              5.0  23.0  Female         NaN  46.234173          O        NaN   \n",
            "...            ...   ...     ...         ...        ...        ...        ...   \n",
            "199995         NaN  24.0    Male  176.503260  95.756997          B  30.737254   \n",
            "199996     99997.0  29.0  Female  163.917675  45.225194        NaN  16.831734   \n",
            "199997     99998.0  34.0  Female         NaN  99.648914        NaN  33.189303   \n",
            "199998     99999.0  30.0  Female  156.446944  50.142824          A  20.486823   \n",
            "199999    100000.0  20.0  Female  153.927409  99.928405          O  42.175189   \n",
            "\n",
            "        Temperature  Heart Rate  Blood Pressure  Cholesterol Diabetes Smoking  \n",
            "0               NaN        95.0           109.0        203.0       No     NaN  \n",
            "1         98.714977        93.0           104.0        163.0       No      No  \n",
            "2         98.260293        76.0           130.0        216.0      Yes      No  \n",
            "3         98.839605        99.0           112.0        141.0       No     Yes  \n",
            "4         98.480008        95.0             NaN        231.0       No      No  \n",
            "...             ...         ...             ...          ...      ...     ...  \n",
            "199995    99.170685        65.0           121.0        130.0       No      No  \n",
            "199996    97.865785        62.0           125.0        198.0       No     Yes  \n",
            "199997    98.768210        60.0            90.0        154.0      NaN      No  \n",
            "199998    98.994212        61.0           106.0        225.0       No      No  \n",
            "199999    98.595817        95.0           133.0        132.0      NaN      No  \n",
            "\n",
            "[200000 rows x 13 columns]>\n"
          ]
        }
      ]
    },
    {
      "cell_type": "markdown",
      "source": [
        "2. Check info of the DataFrame and identify column with missing (null) values."
      ],
      "metadata": {
        "id": "oYh8_2vzMbzR"
      }
    },
    {
      "cell_type": "code",
      "source": [
        "print(med_students_df.info)\n",
        "print(\"\\n\")\n",
        "\n",
        "print(\"Columns with null values: \")\n",
        "print(med_students_df.isnull().sum())\n",
        "\n"
      ],
      "metadata": {
        "colab": {
          "base_uri": "https://localhost:8080/"
        },
        "id": "ah4gKXUeMfVj",
        "outputId": "8a314e7b-b304-4b7a-cade-f480339fc286"
      },
      "execution_count": 13,
      "outputs": [
        {
          "output_type": "stream",
          "name": "stdout",
          "text": [
            "<bound method DataFrame.info of         Student ID   Age  Gender      Height     Weight Blood Type        BMI  \\\n",
            "0              1.0  18.0  Female  161.777924  72.354947          O  27.645835   \n",
            "1              2.0   NaN    Male  152.069157  47.630941          B        NaN   \n",
            "2              3.0  32.0  Female  182.537664  55.741083          A  16.729017   \n",
            "3              NaN  30.0    Male  182.112867  63.332207          B  19.096042   \n",
            "4              5.0  23.0  Female         NaN  46.234173          O        NaN   \n",
            "...            ...   ...     ...         ...        ...        ...        ...   \n",
            "199995         NaN  24.0    Male  176.503260  95.756997          B  30.737254   \n",
            "199996     99997.0  29.0  Female  163.917675  45.225194        NaN  16.831734   \n",
            "199997     99998.0  34.0  Female         NaN  99.648914        NaN  33.189303   \n",
            "199998     99999.0  30.0  Female  156.446944  50.142824          A  20.486823   \n",
            "199999    100000.0  20.0  Female  153.927409  99.928405          O  42.175189   \n",
            "\n",
            "        Temperature  Heart Rate  Blood Pressure  Cholesterol Diabetes Smoking  \n",
            "0               NaN        95.0           109.0        203.0       No     NaN  \n",
            "1         98.714977        93.0           104.0        163.0       No      No  \n",
            "2         98.260293        76.0           130.0        216.0      Yes      No  \n",
            "3         98.839605        99.0           112.0        141.0       No     Yes  \n",
            "4         98.480008        95.0             NaN        231.0       No      No  \n",
            "...             ...         ...             ...          ...      ...     ...  \n",
            "199995    99.170685        65.0           121.0        130.0       No      No  \n",
            "199996    97.865785        62.0           125.0        198.0       No     Yes  \n",
            "199997    98.768210        60.0            90.0        154.0      NaN      No  \n",
            "199998    98.994212        61.0           106.0        225.0       No      No  \n",
            "199999    98.595817        95.0           133.0        132.0      NaN      No  \n",
            "\n",
            "[200000 rows x 13 columns]>\n",
            "\n",
            "\n",
            "Columns with null values: \n",
            "Student ID        20000\n",
            "Age               20000\n",
            "Gender            20000\n",
            "Height            20000\n",
            "Weight            20000\n",
            "Blood Type        20000\n",
            "BMI               20000\n",
            "Temperature       20000\n",
            "Heart Rate        20000\n",
            "Blood Pressure    20000\n",
            "Cholesterol       20000\n",
            "Diabetes          20000\n",
            "Smoking           20000\n",
            "dtype: int64\n"
          ]
        }
      ]
    },
    {
      "cell_type": "markdown",
      "source": [
        "3. For the column with missing values fill the values using various techniques we discussed above. Try\n",
        "to explain why did you select the particular methods for particular column."
      ],
      "metadata": {
        "id": "jV6KUqZONstB"
      }
    },
    {
      "cell_type": "code",
      "source": [
        "for col in med_students_df.columns:\n",
        "    if med_students_df[col].isnull().sum() > 0:\n",
        "        if med_students_df[col].dtype == 'object':\n",
        "            # Fill categorical columns with mode\n",
        "            med_students_df[col] = med_students_df[col].fillna(med_students_df[col].mode()[0])\n",
        "        else:\n",
        "            # Fill numeric columns with mean\n",
        "            med_students_df[col] = med_students_df[col].fillna(med_students_df[col].mean())\n",
        "\n",
        "# Verify no missing values\n",
        "print(\"\\nMissing values after imputation:\")\n",
        "print(med_students_df.isnull().sum())"
      ],
      "metadata": {
        "colab": {
          "base_uri": "https://localhost:8080/"
        },
        "id": "1P0YsKAuNwVN",
        "outputId": "f3c8a4a8-78d3-4db4-d696-c30618d38b9a"
      },
      "execution_count": 14,
      "outputs": [
        {
          "output_type": "stream",
          "name": "stdout",
          "text": [
            "\n",
            "Missing values after imputation:\n",
            "Student ID        0\n",
            "Age               0\n",
            "Gender            0\n",
            "Height            0\n",
            "Weight            0\n",
            "Blood Type        0\n",
            "BMI               0\n",
            "Temperature       0\n",
            "Heart Rate        0\n",
            "Blood Pressure    0\n",
            "Cholesterol       0\n",
            "Diabetes          0\n",
            "Smoking           0\n",
            "dtype: int64\n"
          ]
        }
      ]
    },
    {
      "cell_type": "markdown",
      "source": [
        "4. Check for any duplicate values present in Dataset and do necessary to manage the duplicate items.\n",
        "{Hint: dataset.duplicated.sum()}"
      ],
      "metadata": {
        "id": "k63plG1COHEO"
      }
    },
    {
      "cell_type": "code",
      "source": [
        "print(\"\\nNumber of duplicate rows:\", med_students_df.duplicated().sum())\n",
        "med_students_df = med_students_df.drop_duplicates()\n",
        "print(\"Number of rows after removing duplicates:\", len(med_students_df))"
      ],
      "metadata": {
        "colab": {
          "base_uri": "https://localhost:8080/"
        },
        "id": "qsU8BSzGOIYs",
        "outputId": "b6a5d7ba-5450-4a95-bb29-368b3d207e24"
      },
      "execution_count": 15,
      "outputs": [
        {
          "output_type": "stream",
          "name": "stdout",
          "text": [
            "\n",
            "Number of duplicate rows: 12572\n",
            "Number of rows after removing duplicates: 187428\n"
          ]
        }
      ]
    },
    {
      "cell_type": "markdown",
      "source": [
        "3.2 Exercises - Data Cleaning and Transformations with ”Titanic Dataset”:\\\n",
        "Dataset Used: \"titanic.csv\""
      ],
      "metadata": {
        "id": "v9dztar3OV8W"
      }
    },
    {
      "cell_type": "markdown",
      "source": [
        "Problem - 1:\n",
        "Create a DataFrame that is subsetted for the columns ’Name’, ’Pclass’, ’Sex’, ’Age’, ’Fare’, and ’Survived’.\n",
        "Retain only those rows where ’Pclass’ is equal to 1, representing first-class passengers. What is the mean,\n",
        "median, maximum value, and minimum value of the ’Fare’ column?\n",
        "\n",
        "12"
      ],
      "metadata": {
        "id": "YVbuopSNOfvo"
      }
    },
    {
      "cell_type": "code",
      "source": [
        "import pandas as pd\n",
        "\n",
        "titanic_df = pd.read_csv(\"/content/drive/MyDrive/Concepts of AI/Week2/Datasets/Titanic-Dataset.csv\")\n",
        "\n",
        "subsetted_df = titanic_df[['Name','Pclass','Sex','Age','Fare','Survived']]\n",
        "firstClass_df = subsetted_df[subsetted_df['Pclass'] == 1]\n",
        "\n",
        "firstClass_mean = firstClass_df['Fare'].mean()\n",
        "firstClass_median = firstClass_df['Fare'].median()\n",
        "firstClass_maximum = firstClass_df['Fare'].max()\n",
        "firstClass_minimum = firstClass_df['Fare'].min()\n",
        "\n",
        "print(f\"Mean Fare: {firstClass_mean}\")\n",
        "print(f\"Median Fare: {firstClass_median}\")\n",
        "print(f\"Max Fare: {firstClass_maximum}\")\n",
        "print(f\"Min Fare: {firstClass_minimum}\")"
      ],
      "metadata": {
        "colab": {
          "base_uri": "https://localhost:8080/"
        },
        "id": "k4uBOSiTOlW1",
        "outputId": "4d83cdf3-da31-4d08-f9e1-bb77105a3a66"
      },
      "execution_count": 18,
      "outputs": [
        {
          "output_type": "stream",
          "name": "stdout",
          "text": [
            "Mean Fare: 84.1546875\n",
            "Median Fare: 60.287499999999994\n",
            "Max Fare: 512.3292\n",
            "Min Fare: 0.0\n"
          ]
        }
      ]
    },
    {
      "cell_type": "markdown",
      "source": [
        "Problem - 2:\n",
        "How many null values are contained in the ’Age’ column in your subsetted DataFrame? Once you’ve found\n",
        "this out, drop them from your DataFrame."
      ],
      "metadata": {
        "id": "yVYXUnGBQRfE"
      }
    },
    {
      "cell_type": "code",
      "source": [
        "nullAge_count = firstClass_df['Age'].isnull().sum()\n",
        "print(f\"Total number of null values in Age column = {nullAge_count}\")\n",
        "\n",
        "new_firstClass_df = firstClass_df.dropna(subset=['Age'])\n",
        "print(f\"After dropping total number of null values in Age column = {new_firstClass_df['Age'].isnull().sum()}\")"
      ],
      "metadata": {
        "colab": {
          "base_uri": "https://localhost:8080/"
        },
        "id": "-325dgXxQR-1",
        "outputId": "b2375236-1f87-4745-8626-357f6eea787b"
      },
      "execution_count": 20,
      "outputs": [
        {
          "output_type": "stream",
          "name": "stdout",
          "text": [
            "Total number of null values in Age column = 30\n",
            "After dropping total number of null values in Age column = 0\n"
          ]
        }
      ]
    },
    {
      "cell_type": "markdown",
      "source": [
        "Problem - 3:\n",
        "\n",
        "The ’Embarked’ column in the Titanic dataset contains categorical data representing the ports of embarka-\n",
        "tion:\\\n",
        "\n",
        "• ’C’ for Cherbourg\\\n",
        "• ’Q’ for Queenstown\\\n",
        "• ’S’ for Southampton\\\n",
        "Task:"
      ],
      "metadata": {
        "id": "14zR_ezxRMuR"
      }
    },
    {
      "cell_type": "markdown",
      "source": [
        "1. Use one-hot encoding to convert the ’Embarked’ column into separate binary columns (’Embarked C’,\n",
        "’Embarked Q’, ’Embarked S’)."
      ],
      "metadata": {
        "id": "PxWfq3D7RuXo"
      }
    },
    {
      "cell_type": "code",
      "source": [
        "import pandas as pd\n",
        "\n",
        "encoded_df = pd.get_dummies(titanic_df['Embarked'], prefix='Embarked')\n",
        "\n",
        "print(encoded_df.head(10))"
      ],
      "metadata": {
        "colab": {
          "base_uri": "https://localhost:8080/"
        },
        "id": "iuqq-28ySAwo",
        "outputId": "ff456bf4-8a49-4b53-8c69-a23f0e63f0a2"
      },
      "execution_count": 22,
      "outputs": [
        {
          "output_type": "stream",
          "name": "stdout",
          "text": [
            "   Embarked_C  Embarked_Q  Embarked_S\n",
            "0       False       False        True\n",
            "1        True       False       False\n",
            "2       False       False        True\n",
            "3       False       False        True\n",
            "4       False       False        True\n",
            "5       False        True       False\n",
            "6       False       False        True\n",
            "7       False       False        True\n",
            "8       False       False        True\n",
            "9        True       False       False\n"
          ]
        }
      ]
    },
    {
      "cell_type": "markdown",
      "source": [
        "2. Add these new columns to the original DataFrame."
      ],
      "metadata": {
        "id": "czTuvdelSSy-"
      }
    },
    {
      "cell_type": "code",
      "source": [
        "titanic_df = pd.concat([titanic_df, encoded_df], axis=1)\n",
        "print(titanic_df.head(10))"
      ],
      "metadata": {
        "colab": {
          "base_uri": "https://localhost:8080/"
        },
        "id": "--b_EBQUSWhX",
        "outputId": "ac42b519-7648-4735-ab7c-df71c904761f"
      },
      "execution_count": 23,
      "outputs": [
        {
          "output_type": "stream",
          "name": "stdout",
          "text": [
            "   PassengerId  Survived  Pclass  \\\n",
            "0            1         0       3   \n",
            "1            2         1       1   \n",
            "2            3         1       3   \n",
            "3            4         1       1   \n",
            "4            5         0       3   \n",
            "5            6         0       3   \n",
            "6            7         0       1   \n",
            "7            8         0       3   \n",
            "8            9         1       3   \n",
            "9           10         1       2   \n",
            "\n",
            "                                                Name     Sex   Age  SibSp  \\\n",
            "0                            Braund, Mr. Owen Harris    male  22.0      1   \n",
            "1  Cumings, Mrs. John Bradley (Florence Briggs Th...  female  38.0      1   \n",
            "2                             Heikkinen, Miss. Laina  female  26.0      0   \n",
            "3       Futrelle, Mrs. Jacques Heath (Lily May Peel)  female  35.0      1   \n",
            "4                           Allen, Mr. William Henry    male  35.0      0   \n",
            "5                                   Moran, Mr. James    male   NaN      0   \n",
            "6                            McCarthy, Mr. Timothy J    male  54.0      0   \n",
            "7                     Palsson, Master. Gosta Leonard    male   2.0      3   \n",
            "8  Johnson, Mrs. Oscar W (Elisabeth Vilhelmina Berg)  female  27.0      0   \n",
            "9                Nasser, Mrs. Nicholas (Adele Achem)  female  14.0      1   \n",
            "\n",
            "   Parch            Ticket     Fare Cabin Embarked  Embarked_C  Embarked_Q  \\\n",
            "0      0         A/5 21171   7.2500   NaN        S       False       False   \n",
            "1      0          PC 17599  71.2833   C85        C        True       False   \n",
            "2      0  STON/O2. 3101282   7.9250   NaN        S       False       False   \n",
            "3      0            113803  53.1000  C123        S       False       False   \n",
            "4      0            373450   8.0500   NaN        S       False       False   \n",
            "5      0            330877   8.4583   NaN        Q       False        True   \n",
            "6      0             17463  51.8625   E46        S       False       False   \n",
            "7      1            349909  21.0750   NaN        S       False       False   \n",
            "8      2            347742  11.1333   NaN        S       False       False   \n",
            "9      0            237736  30.0708   NaN        C        True       False   \n",
            "\n",
            "   Embarked_S  \n",
            "0        True  \n",
            "1       False  \n",
            "2        True  \n",
            "3        True  \n",
            "4        True  \n",
            "5       False  \n",
            "6        True  \n",
            "7        True  \n",
            "8        True  \n",
            "9       False  \n"
          ]
        }
      ]
    },
    {
      "cell_type": "markdown",
      "source": [
        "3. Drop the original ’Embarked’ column."
      ],
      "metadata": {
        "id": "L9oNJVEiSkrT"
      }
    },
    {
      "cell_type": "code",
      "source": [
        "titanic_df = titanic_df.drop(columns=['Embarked'])\n",
        "print(titanic_df.head())"
      ],
      "metadata": {
        "colab": {
          "base_uri": "https://localhost:8080/"
        },
        "id": "D2OQSpGGSnXR",
        "outputId": "3c7935fb-93da-4d7f-abc0-d53775e6b9b0"
      },
      "execution_count": 24,
      "outputs": [
        {
          "output_type": "stream",
          "name": "stdout",
          "text": [
            "   PassengerId  Survived  Pclass  \\\n",
            "0            1         0       3   \n",
            "1            2         1       1   \n",
            "2            3         1       3   \n",
            "3            4         1       1   \n",
            "4            5         0       3   \n",
            "\n",
            "                                                Name     Sex   Age  SibSp  \\\n",
            "0                            Braund, Mr. Owen Harris    male  22.0      1   \n",
            "1  Cumings, Mrs. John Bradley (Florence Briggs Th...  female  38.0      1   \n",
            "2                             Heikkinen, Miss. Laina  female  26.0      0   \n",
            "3       Futrelle, Mrs. Jacques Heath (Lily May Peel)  female  35.0      1   \n",
            "4                           Allen, Mr. William Henry    male  35.0      0   \n",
            "\n",
            "   Parch            Ticket     Fare Cabin  Embarked_C  Embarked_Q  Embarked_S  \n",
            "0      0         A/5 21171   7.2500   NaN       False       False        True  \n",
            "1      0          PC 17599  71.2833   C85        True       False       False  \n",
            "2      0  STON/O2. 3101282   7.9250   NaN       False       False        True  \n",
            "3      0            113803  53.1000  C123       False       False        True  \n",
            "4      0            373450   8.0500   NaN       False       False        True  \n"
          ]
        }
      ]
    },
    {
      "cell_type": "markdown",
      "source": [
        "4. Print the first few rows of the modified DataFrame to verify the changes."
      ],
      "metadata": {
        "id": "JQ8WeCorS0ud"
      }
    },
    {
      "cell_type": "code",
      "source": [
        "print(titanic_df.head(10))"
      ],
      "metadata": {
        "colab": {
          "base_uri": "https://localhost:8080/"
        },
        "id": "eEzoDRJKS1Uu",
        "outputId": "33f53cdd-8287-46d5-8404-4229c606749d"
      },
      "execution_count": 25,
      "outputs": [
        {
          "output_type": "stream",
          "name": "stdout",
          "text": [
            "   PassengerId  Survived  Pclass  \\\n",
            "0            1         0       3   \n",
            "1            2         1       1   \n",
            "2            3         1       3   \n",
            "3            4         1       1   \n",
            "4            5         0       3   \n",
            "5            6         0       3   \n",
            "6            7         0       1   \n",
            "7            8         0       3   \n",
            "8            9         1       3   \n",
            "9           10         1       2   \n",
            "\n",
            "                                                Name     Sex   Age  SibSp  \\\n",
            "0                            Braund, Mr. Owen Harris    male  22.0      1   \n",
            "1  Cumings, Mrs. John Bradley (Florence Briggs Th...  female  38.0      1   \n",
            "2                             Heikkinen, Miss. Laina  female  26.0      0   \n",
            "3       Futrelle, Mrs. Jacques Heath (Lily May Peel)  female  35.0      1   \n",
            "4                           Allen, Mr. William Henry    male  35.0      0   \n",
            "5                                   Moran, Mr. James    male   NaN      0   \n",
            "6                            McCarthy, Mr. Timothy J    male  54.0      0   \n",
            "7                     Palsson, Master. Gosta Leonard    male   2.0      3   \n",
            "8  Johnson, Mrs. Oscar W (Elisabeth Vilhelmina Berg)  female  27.0      0   \n",
            "9                Nasser, Mrs. Nicholas (Adele Achem)  female  14.0      1   \n",
            "\n",
            "   Parch            Ticket     Fare Cabin  Embarked_C  Embarked_Q  Embarked_S  \n",
            "0      0         A/5 21171   7.2500   NaN       False       False        True  \n",
            "1      0          PC 17599  71.2833   C85        True       False       False  \n",
            "2      0  STON/O2. 3101282   7.9250   NaN       False       False        True  \n",
            "3      0            113803  53.1000  C123       False       False        True  \n",
            "4      0            373450   8.0500   NaN       False       False        True  \n",
            "5      0            330877   8.4583   NaN       False        True       False  \n",
            "6      0             17463  51.8625   E46       False       False        True  \n",
            "7      1            349909  21.0750   NaN       False       False        True  \n",
            "8      2            347742  11.1333   NaN       False       False        True  \n",
            "9      0            237736  30.0708   NaN        True       False       False  \n"
          ]
        }
      ]
    },
    {
      "cell_type": "markdown",
      "source": [
        "Problem - 4:\n",
        "\n",
        "Compare the mean survival rates (’Survived’) for the different groups in the ’Sex’ column. Draw a visual-\n",
        "ization to show how the survival distributions vary by gender."
      ],
      "metadata": {
        "id": "n3bOMNTyS66p"
      }
    },
    {
      "cell_type": "code",
      "source": [
        "import matplotlib.pyplot as plt\n",
        "\n",
        "# Mean survival rates by gender\n",
        "survival_rates_gender = titanic_df.groupby('Sex')['Survived'].mean()\n",
        "print(\"Survival Rates by Gender:\")\n",
        "print(survival_rates_gender)\n",
        "\n",
        "# Visualization\n",
        "plt.bar(survival_rates_gender.index, survival_rates_gender.values, color=['lightcoral', 'skyblue'])\n",
        "plt.title(\"Survival Rates by Gender\")\n",
        "plt.xlabel(\"Gender\")\n",
        "plt.ylabel(\"Survival Rate\")\n",
        "plt.show()"
      ],
      "metadata": {
        "colab": {
          "base_uri": "https://localhost:8080/",
          "height": 563
        },
        "id": "HTZ7A1RWTat2",
        "outputId": "bc508881-aa95-427c-f57d-a0d908247fda"
      },
      "execution_count": 26,
      "outputs": [
        {
          "output_type": "stream",
          "name": "stdout",
          "text": [
            "Survival Rates by Gender:\n",
            "Sex\n",
            "female    0.742038\n",
            "male      0.188908\n",
            "Name: Survived, dtype: float64\n"
          ]
        },
        {
          "output_type": "display_data",
          "data": {
            "text/plain": [
              "<Figure size 640x480 with 1 Axes>"
            ],
            "image/png": "[encoded data removed]"
          },
          "metadata": {}
        }
      ]
    },
    {
      "cell_type": "markdown",
      "source": [
        "Problem - 5:\n",
        "\n",
        "Draw a visualization that breaks your visualization from Exercise 3 down by the port of embarkation (’Em-\n",
        "barked’). In this instance, compare the ports ’C’ (Cherbourg), ’Q’ (Queenstown), and ’S’ (Southampton)."
      ],
      "metadata": {
        "id": "NK0Pv8KFTi8Q"
      }
    },
    {
      "cell_type": "code",
      "source": [
        "\n",
        "survival_rates_port = {\n",
        "    'Cherbourg': titanic_df.loc[titanic_df['Embarked_C'] == 1, 'Survived'].mean(),\n",
        "    'Queenstown': titanic_df.loc[titanic_df['Embarked_Q'] == 1, 'Survived'].mean(),\n",
        "    'Southampton': titanic_df.loc[titanic_df['Embarked_S'] == 1, 'Survived'].mean(),\n",
        "}\n",
        "\n",
        "plt.figure(figsize=(6, 4))\n",
        "plt.bar(survival_rates_port.keys(), survival_rates_port.values(), color=['blue', 'red', 'green'])\n",
        "plt.title(\"Survival Rates by Port of Embarkation\")\n",
        "plt.xlabel(\"Port\")\n",
        "plt.ylabel(\"Survival Rate\")\n",
        "plt.show()"
      ],
      "metadata": {
        "colab": {
          "base_uri": "https://localhost:8080/",
          "height": 410
        },
        "id": "5fmqxDnQTmN6",
        "outputId": "c5cdc215-3fc2-41a7-af7e-35ff42427199"
      },
      "execution_count": 30,
      "outputs": [
        {
          "output_type": "display_data",
          "data": {
            "text/plain": [
              "<Figure size 600x400 with 1 Axes>"
            ],
            "image/png": "[encoded data removed]"
          },
          "metadata": {}
        }
      ]
    },
    {
      "cell_type": "markdown",
      "source": [
        "Problem - 6{Optional}:\n",
        "Show how the survival rates (’Survived’) vary by age group and passenger class (’Pclass’). Break up the\n",
        "’Age’ column into five quantiles in your DataFrame, and then compare the means of ’Survived’ by class\n",
        "and age group. Draw a visualization using a any plotting library to represent this graphically."
      ],
      "metadata": {
        "id": "Stv7utDPT7_U"
      }
    },
    {
      "cell_type": "code",
      "source": [
        "# Categorize Age into quantiles\n",
        "titanic_df['AgeGroup'] = pd.qcut(titanic_df['Age'], 5, labels=False)\n",
        "\n",
        "# Survival rates by age group and class\n",
        "survival_rates_age_class = titanic_df.groupby(['Pclass', 'AgeGroup'])['Survived'].mean()\n",
        "print(\"Survival Rates by Age Group and Passenger Class:\")\n",
        "print(survival_rates_age_class)\n",
        "\n",
        "# Visualization\n",
        "import seaborn as sns\n",
        "sns.heatmap(survival_rates_age_class.unstack(), annot=True, cmap='YlGnBu')\n",
        "plt.title(\"Survival Rates by Age Group and Passenger Class\")\n",
        "plt.xlabel(\"Age Group\")\n",
        "plt.ylabel(\"Passenger Class\")\n",
        "plt.show()"
      ],
      "metadata": {
        "colab": {
          "base_uri": "https://localhost:8080/",
          "height": 800
        },
        "id": "fS1DgMwaT8io",
        "outputId": "200a6ed3-45fe-4412-be58-7d5c32bda3f5"
      },
      "execution_count": 31,
      "outputs": [
        {
          "output_type": "stream",
          "name": "stdout",
          "text": [
            "Survival Rates by Age Group and Passenger Class:\n",
            "Pclass  AgeGroup\n",
            "1       0.0         0.809524\n",
            "        1.0         0.761905\n",
            "        2.0         0.666667\n",
            "        3.0         0.777778\n",
            "        4.0         0.506667\n",
            "2       0.0         0.742857\n",
            "        1.0         0.400000\n",
            "        2.0         0.416667\n",
            "        3.0         0.461538\n",
            "        4.0         0.363636\n",
            "3       0.0         0.333333\n",
            "        1.0         0.197674\n",
            "        2.0         0.283582\n",
            "        3.0         0.166667\n",
            "        4.0         0.088235\n",
            "Name: Survived, dtype: float64\n"
          ]
        },
        {
          "output_type": "display_data",
          "data": {
            "text/plain": [
              "<Figure size 640x480 with 2 Axes>"
            ],
            "image/png": "[encoded data removed]"
          },
          "metadata": {}
        }
      ]
    }
  ]
}